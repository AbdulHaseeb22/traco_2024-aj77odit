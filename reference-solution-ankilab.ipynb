{
 "cells": [
  {
   "cell_type": "markdown",
   "id": "4a18a939",
   "metadata": {},
   "source": [
<<<<<<< HEAD
    "# TRACO example solution\n",
    "In this Jupyter Notebook we implemented a really simple approch of how to detect Hexbugs in a frame. The following steps are performed:\n",
    "- Load all videos and Hexbug positions for training\n",
    "- Resize all frames to a fixed size (target_shape)\n",
    "- Create a binary mask from the positions to train a U-Net\n",
    "- Create U-Net architecture and train it with a learning rate scheduler\n",
    "- Get the final predictions by finding clusters in the predicted output image and scaling back the points to the original frame size\n",
    "- Convert the output to fit the \".traco\" format that is needed to use our score calculation script"
=======
    "# TRACO reference solution"
>>>>>>> 4fc13573067262c5c43b9c3ef669e23ce12be2e1
   ]
  },
  {
   "cell_type": "code",
<<<<<<< HEAD
   "execution_count": 201,
   "id": "d4540624",
   "metadata": {},
   "outputs": [],
=======
   "execution_count": 1,
   "id": "d4540624",
   "metadata": {},
   "outputs": [
    {
     "name": "stderr",
     "output_type": "stream",
     "text": [
      "2023-04-24 20:40:20.101937: I tensorflow/core/platform/cpu_feature_guard.cc:193] This TensorFlow binary is optimized with oneAPI Deep Neural Network Library (oneDNN) to use the following CPU instructions in performance-critical operations:  AVX2 AVX512F AVX512_VNNI FMA\n",
      "To enable them in other operations, rebuild TensorFlow with the appropriate compiler flags.\n",
      "2023-04-24 20:40:20.254057: I tensorflow/core/util/port.cc:104] oneDNN custom operations are on. You may see slightly different numerical results due to floating-point round-off errors from different computation orders. To turn them off, set the environment variable `TF_ENABLE_ONEDNN_OPTS=0`.\n",
      "2023-04-24 20:40:20.807873: W tensorflow/compiler/xla/stream_executor/platform/default/dso_loader.cc:64] Could not load dynamic library 'libnvinfer.so.7'; dlerror: libnvinfer.so.7: cannot open shared object file: No such file or directory; LD_LIBRARY_PATH: /data/du92wufe/.local/lib/python3.9/site-packages/cv2/../../lib64:\n",
      "2023-04-24 20:40:20.807915: W tensorflow/compiler/xla/stream_executor/platform/default/dso_loader.cc:64] Could not load dynamic library 'libnvinfer_plugin.so.7'; dlerror: libnvinfer_plugin.so.7: cannot open shared object file: No such file or directory; LD_LIBRARY_PATH: /data/du92wufe/.local/lib/python3.9/site-packages/cv2/../../lib64:\n",
      "2023-04-24 20:40:20.807919: W tensorflow/compiler/tf2tensorrt/utils/py_utils.cc:38] TF-TRT Warning: Cannot dlopen some TensorRT libraries. If you would like to use Nvidia GPU with TensorRT, please make sure the missing libraries mentioned above are installed properly.\n"
     ]
    },
    {
     "name": "stdout",
     "output_type": "stream",
     "text": [
      "Segmentation Models: using `keras` framework.\n"
     ]
    }
   ],
>>>>>>> 4fc13573067262c5c43b9c3ef669e23ce12be2e1
   "source": [
    "import cv2\n",
    "import numpy as np\n",
    "from pathlib import Path\n",
    "import os\n",
    "import json\n",
    "import pandas as pd\n",
    "\n",
    "import tensorflow as tf\n",
    "from tensorflow.keras.models import Model\n",
    "from tensorflow.keras.layers import Input, Conv2D, MaxPool2D, Flatten, Dense, Dropout, BatchNormalization, Concatenate, Reshape, GlobalAveragePooling2D, UpSampling2D, Activation\n",
    "from tensorflow.keras.optimizers import Adam\n",
<<<<<<< HEAD
    "from tf.keras.callbacks import LearningRateScheduler\n",
=======
    "from tensorflow.keras.callbacks import LearningRateScheduler\n",
>>>>>>> 4fc13573067262c5c43b9c3ef669e23ce12be2e1
    "from segmentation_models.metrics import iou_score\n",
    "from segmentation_models.losses import dice_loss\n",
    "\n",
    "import matplotlib.pyplot as plt\n",
    "\n",
    "from sklearn.cluster import DBSCAN"
   ]
  },
  {
   "cell_type": "code",
<<<<<<< HEAD
   "execution_count": 162,
=======
   "execution_count": 2,
>>>>>>> 4fc13573067262c5c43b9c3ef669e23ce12be2e1
   "id": "eb2bd2ae",
   "metadata": {},
   "outputs": [],
   "source": [
    "# Define path where the training data is located\n",
    "path_training_vids = Path(\"training\")\n",
    "\n",
    "# Downsample the input frames to a fixed target_shape\n",
    "target_shape = (256, 256)"
   ]
  },
  {
   "cell_type": "code",
<<<<<<< HEAD
   "execution_count": 163,
=======
   "execution_count": 3,
>>>>>>> 4fc13573067262c5c43b9c3ef669e23ce12be2e1
   "id": "65097154",
   "metadata": {
    "scrolled": false
   },
   "outputs": [],
   "source": [
    "def load_train_videos(path):\n",
    "    \"\"\"\n",
    "    This function returns all trainings videos and the annotations as binary masks (1 at the positions where a Hexbug is located).\n",
    "    All frames are resized and normalized. \n",
    "    \"\"\"\n",
    "    X = []\n",
    "    Y = []\n",
    "    \n",
    "    for vid in os.listdir(path):\n",
    "        path = Path(path)\n",
    "        if \".mp4\" in vid:\n",
    "            with open(path / vid.replace(\"mp4\", \"traco\")) as f:\n",
    "                annotations = json.load(f)['rois']\n",
    "            \n",
<<<<<<< HEAD
    "            file_names.append(path / vid.replace(\"mp4\", \"traco\"))\n",
    "            \n",
=======
>>>>>>> 4fc13573067262c5c43b9c3ef669e23ce12be2e1
    "            cap = cv2.VideoCapture(str(path / vid))\n",
    "            ret, frame = cap.read()     \n",
    "            org_shape = frame.shape\n",
    "            \n",
    "            z = 0  # frame counter\n",
    "            while ret:\n",
    "                frame = cv2.cvtColor(frame, cv2.COLOR_BGR2RGB)\n",
    "                mask_frame = np.zeros(shape=target_shape)\n",
    "                for annot in annotations:\n",
    "                    if annot['z'] == z: \n",
    "                        # Get pos and scale it down to fit the target_shape\n",
    "                        pos = annot['pos']\n",
    "                        pos[0] = pos[0] * target_shape[0] // org_shape[1]\n",
    "                        pos[1] = pos[1] * target_shape[1] // org_shape[0]\n",
    "                        \n",
    "                        # Set the position if the Hexbug in the binary mask to 1\n",
    "                        try:\n",
    "                            mask_frame[int(pos[1]), int(pos[0])] = 1\n",
    "                        except:\n",
    "                            # IndexOutOfRange error sometimes occurs because of the downsampling of the frames\n",
    "                            mask_frame[int(pos[1]) - 1, int(pos[0]) - 1] = 1\n",
    "                        \n",
    "                # Resize the frame to the target size using bilinear interpolation\n",
    "                resized_frame = cv2.resize(frame, target_shape, interpolation=cv2.INTER_LINEAR)\n",
    "                \n",
    "                # Normalize to zero mean and unit variance\n",
    "                normalized_frame = (resized_frame.astype('float32') / 255.0 - 0.5) / 0.5\n",
    "                \n",
    "                # Append to lists\n",
    "                X.append(normalized_frame)\n",
    "                Y.append(mask_frame) \n",
    "                \n",
    "                ret, frame = cap.read()  # read next frame\n",
    "                z += 1  # increase frame counter\n",
    "                \n",
    "    X = np.asarray(X)\n",
    "    Y = np.asarray(Y)\n",
    "    \n",
    "    return X, Y"
   ]
  },
  {
   "cell_type": "markdown",
   "id": "1443b825",
   "metadata": {},
   "source": [
    "## Create and train U-Net"
   ]
  },
  {
   "cell_type": "code",
<<<<<<< HEAD
   "execution_count": 149,
=======
   "execution_count": 4,
>>>>>>> 4fc13573067262c5c43b9c3ef669e23ce12be2e1
   "id": "54e7f43f",
   "metadata": {},
   "outputs": [],
   "source": [
    "def conv_block(x, num_filters):\n",
    "    x = Conv2D(filters=num_filters, kernel_size=3, padding='same')(x)\n",
    "    x = BatchNormalization()(x)\n",
    "    x = Activation('relu')(x)\n",
    "\n",
    "    x = Conv2D(filters=num_filters, kernel_size=3, padding='same')(x)\n",
    "    x = BatchNormalization()(x)\n",
    "    x = Activation('relu')(x)\n",
    "    return x\n",
    "\n",
    "\n",
    "def build_Unet(filters=16, num_classes=1):\n",
    "    # Input layer\n",
    "    inputs = Input(shape=(target_shape[0], target_shape[1], 3))\n",
    "    \n",
    "    # Encoder\n",
    "    e1 = conv_block(inputs, filters)\n",
    "    p1 = MaxPool2D((2, 2))(e1)\n",
    "    \n",
    "    e2 = conv_block(p1, filters * 2)\n",
    "    p2 = MaxPool2D((2, 2))(e2)\n",
    "    \n",
    "    e3 = conv_block(p2, filters * 4)\n",
    "    p3 = MaxPool2D((2, 2))(e3)\n",
    "    \n",
    "    e4 = conv_block(p3, filters * 8)\n",
    "    p4 = MaxPool2D((2, 2))(e4)\n",
    "    \n",
    "    # Bottleneck\n",
    "    b1 = conv_block(p4, filters * 16)\n",
    "    \n",
    "    # Decoder\n",
    "    d1 = UpSampling2D()(b1)\n",
    "    d1 = Concatenate()([d1, e4])\n",
    "    d1 = conv_block(d1, filters * 8)\n",
    "    \n",
    "    d2 = UpSampling2D()(d1)\n",
    "    d2 = Concatenate()([d2, e3])\n",
    "    d2 = conv_block(d2, filters * 4)\n",
    "    \n",
    "    d3 = UpSampling2D()(d2)\n",
    "    d3 = Concatenate()([d3, e2])\n",
    "    d3 = conv_block(d3, filters * 2)\n",
    "    \n",
    "    d4 = UpSampling2D()(d3)\n",
    "    d4 = Concatenate()([d4, e1])\n",
    "    d4 = conv_block(d4, filters)\n",
    "    \n",
    "    # Output layer\n",
    "    outputs = Conv2D(filters=num_classes,\n",
    "                     kernel_size=1,\n",
    "                     padding='same',\n",
    "                     activation='sigmoid')(d4)\n",
    "    \n",
    "    return Model(inputs, outputs)"
   ]
  },
  {
   "cell_type": "code",
<<<<<<< HEAD
   "execution_count": 203,
   "id": "f0255e94",
   "metadata": {},
   "outputs": [
    {
     "name": "stdout",
     "output_type": "stream",
     "text": [
      "Model: \"model_1\"\n",
      "__________________________________________________________________________________________________\n",
      " Layer (type)                   Output Shape         Param #     Connected to                     \n",
      "==================================================================================================\n",
      " input_2 (InputLayer)           [(None, 256, 256, 3  0           []                               \n",
      "                                )]                                                                \n",
      "                                                                                                  \n",
      " conv2d_19 (Conv2D)             (None, 256, 256, 16  448         ['input_2[0][0]']                \n",
      "                                )                                                                 \n",
      "                                                                                                  \n",
      " batch_normalization_18 (BatchN  (None, 256, 256, 16  64         ['conv2d_19[0][0]']              \n",
      " ormalization)                  )                                                                 \n",
      "                                                                                                  \n",
      " activation_18 (Activation)     (None, 256, 256, 16  0           ['batch_normalization_18[0][0]'] \n",
      "                                )                                                                 \n",
      "                                                                                                  \n",
      " conv2d_20 (Conv2D)             (None, 256, 256, 16  2320        ['activation_18[0][0]']          \n",
      "                                )                                                                 \n",
      "                                                                                                  \n",
      " batch_normalization_19 (BatchN  (None, 256, 256, 16  64         ['conv2d_20[0][0]']              \n",
      " ormalization)                  )                                                                 \n",
      "                                                                                                  \n",
      " activation_19 (Activation)     (None, 256, 256, 16  0           ['batch_normalization_19[0][0]'] \n",
      "                                )                                                                 \n",
      "                                                                                                  \n",
      " max_pooling2d_4 (MaxPooling2D)  (None, 128, 128, 16  0          ['activation_19[0][0]']          \n",
      "                                )                                                                 \n",
      "                                                                                                  \n",
      " conv2d_21 (Conv2D)             (None, 128, 128, 32  4640        ['max_pooling2d_4[0][0]']        \n",
      "                                )                                                                 \n",
      "                                                                                                  \n",
      " batch_normalization_20 (BatchN  (None, 128, 128, 32  128        ['conv2d_21[0][0]']              \n",
      " ormalization)                  )                                                                 \n",
      "                                                                                                  \n",
      " activation_20 (Activation)     (None, 128, 128, 32  0           ['batch_normalization_20[0][0]'] \n",
      "                                )                                                                 \n",
      "                                                                                                  \n",
      " conv2d_22 (Conv2D)             (None, 128, 128, 32  9248        ['activation_20[0][0]']          \n",
      "                                )                                                                 \n",
      "                                                                                                  \n",
      " batch_normalization_21 (BatchN  (None, 128, 128, 32  128        ['conv2d_22[0][0]']              \n",
      " ormalization)                  )                                                                 \n",
      "                                                                                                  \n",
      " activation_21 (Activation)     (None, 128, 128, 32  0           ['batch_normalization_21[0][0]'] \n",
      "                                )                                                                 \n",
      "                                                                                                  \n",
      " max_pooling2d_5 (MaxPooling2D)  (None, 64, 64, 32)  0           ['activation_21[0][0]']          \n",
      "                                                                                                  \n",
      " conv2d_23 (Conv2D)             (None, 64, 64, 64)   18496       ['max_pooling2d_5[0][0]']        \n",
      "                                                                                                  \n",
      " batch_normalization_22 (BatchN  (None, 64, 64, 64)  256         ['conv2d_23[0][0]']              \n",
      " ormalization)                                                                                    \n",
      "                                                                                                  \n",
      " activation_22 (Activation)     (None, 64, 64, 64)   0           ['batch_normalization_22[0][0]'] \n",
      "                                                                                                  \n",
      " conv2d_24 (Conv2D)             (None, 64, 64, 64)   36928       ['activation_22[0][0]']          \n",
      "                                                                                                  \n",
      " batch_normalization_23 (BatchN  (None, 64, 64, 64)  256         ['conv2d_24[0][0]']              \n",
      " ormalization)                                                                                    \n",
      "                                                                                                  \n",
      " activation_23 (Activation)     (None, 64, 64, 64)   0           ['batch_normalization_23[0][0]'] \n",
      "                                                                                                  \n",
      " max_pooling2d_6 (MaxPooling2D)  (None, 32, 32, 64)  0           ['activation_23[0][0]']          \n",
      "                                                                                                  \n",
      " conv2d_25 (Conv2D)             (None, 32, 32, 128)  73856       ['max_pooling2d_6[0][0]']        \n",
      "                                                                                                  \n",
      " batch_normalization_24 (BatchN  (None, 32, 32, 128)  512        ['conv2d_25[0][0]']              \n",
      " ormalization)                                                                                    \n",
      "                                                                                                  \n",
      " activation_24 (Activation)     (None, 32, 32, 128)  0           ['batch_normalization_24[0][0]'] \n",
      "                                                                                                  \n",
      " conv2d_26 (Conv2D)             (None, 32, 32, 128)  147584      ['activation_24[0][0]']          \n",
      "                                                                                                  \n",
      " batch_normalization_25 (BatchN  (None, 32, 32, 128)  512        ['conv2d_26[0][0]']              \n",
      " ormalization)                                                                                    \n",
      "                                                                                                  \n",
      " activation_25 (Activation)     (None, 32, 32, 128)  0           ['batch_normalization_25[0][0]'] \n",
      "                                                                                                  \n",
      " max_pooling2d_7 (MaxPooling2D)  (None, 16, 16, 128)  0          ['activation_25[0][0]']          \n",
      "                                                                                                  \n",
      " conv2d_27 (Conv2D)             (None, 16, 16, 256)  295168      ['max_pooling2d_7[0][0]']        \n",
      "                                                                                                  \n",
      " batch_normalization_26 (BatchN  (None, 16, 16, 256)  1024       ['conv2d_27[0][0]']              \n",
      " ormalization)                                                                                    \n"
     ]
    },
    {
     "name": "stdout",
     "output_type": "stream",
     "text": [
      "                                                                                                  \n",
      " activation_26 (Activation)     (None, 16, 16, 256)  0           ['batch_normalization_26[0][0]'] \n",
      "                                                                                                  \n",
      " conv2d_28 (Conv2D)             (None, 16, 16, 256)  590080      ['activation_26[0][0]']          \n",
      "                                                                                                  \n",
      " batch_normalization_27 (BatchN  (None, 16, 16, 256)  1024       ['conv2d_28[0][0]']              \n",
      " ormalization)                                                                                    \n",
      "                                                                                                  \n",
      " activation_27 (Activation)     (None, 16, 16, 256)  0           ['batch_normalization_27[0][0]'] \n",
      "                                                                                                  \n",
      " up_sampling2d_4 (UpSampling2D)  (None, 32, 32, 256)  0          ['activation_27[0][0]']          \n",
      "                                                                                                  \n",
      " concatenate_4 (Concatenate)    (None, 32, 32, 384)  0           ['up_sampling2d_4[0][0]',        \n",
      "                                                                  'activation_25[0][0]']          \n",
      "                                                                                                  \n",
      " conv2d_29 (Conv2D)             (None, 32, 32, 128)  442496      ['concatenate_4[0][0]']          \n",
      "                                                                                                  \n",
      " batch_normalization_28 (BatchN  (None, 32, 32, 128)  512        ['conv2d_29[0][0]']              \n",
      " ormalization)                                                                                    \n",
      "                                                                                                  \n",
      " activation_28 (Activation)     (None, 32, 32, 128)  0           ['batch_normalization_28[0][0]'] \n",
      "                                                                                                  \n",
      " conv2d_30 (Conv2D)             (None, 32, 32, 128)  147584      ['activation_28[0][0]']          \n",
      "                                                                                                  \n",
      " batch_normalization_29 (BatchN  (None, 32, 32, 128)  512        ['conv2d_30[0][0]']              \n",
      " ormalization)                                                                                    \n",
      "                                                                                                  \n",
      " activation_29 (Activation)     (None, 32, 32, 128)  0           ['batch_normalization_29[0][0]'] \n",
      "                                                                                                  \n",
      " up_sampling2d_5 (UpSampling2D)  (None, 64, 64, 128)  0          ['activation_29[0][0]']          \n",
      "                                                                                                  \n",
      " concatenate_5 (Concatenate)    (None, 64, 64, 192)  0           ['up_sampling2d_5[0][0]',        \n",
      "                                                                  'activation_23[0][0]']          \n",
      "                                                                                                  \n",
      " conv2d_31 (Conv2D)             (None, 64, 64, 64)   110656      ['concatenate_5[0][0]']          \n",
      "                                                                                                  \n",
      " batch_normalization_30 (BatchN  (None, 64, 64, 64)  256         ['conv2d_31[0][0]']              \n",
      " ormalization)                                                                                    \n",
      "                                                                                                  \n",
      " activation_30 (Activation)     (None, 64, 64, 64)   0           ['batch_normalization_30[0][0]'] \n",
      "                                                                                                  \n",
      " conv2d_32 (Conv2D)             (None, 64, 64, 64)   36928       ['activation_30[0][0]']          \n",
      "                                                                                                  \n",
      " batch_normalization_31 (BatchN  (None, 64, 64, 64)  256         ['conv2d_32[0][0]']              \n",
      " ormalization)                                                                                    \n",
      "                                                                                                  \n",
      " activation_31 (Activation)     (None, 64, 64, 64)   0           ['batch_normalization_31[0][0]'] \n",
      "                                                                                                  \n",
      " up_sampling2d_6 (UpSampling2D)  (None, 128, 128, 64  0          ['activation_31[0][0]']          \n",
      "                                )                                                                 \n",
      "                                                                                                  \n",
      " concatenate_6 (Concatenate)    (None, 128, 128, 96  0           ['up_sampling2d_6[0][0]',        \n",
      "                                )                                 'activation_21[0][0]']          \n",
      "                                                                                                  \n",
      " conv2d_33 (Conv2D)             (None, 128, 128, 32  27680       ['concatenate_6[0][0]']          \n",
      "                                )                                                                 \n",
      "                                                                                                  \n",
      " batch_normalization_32 (BatchN  (None, 128, 128, 32  128        ['conv2d_33[0][0]']              \n",
      " ormalization)                  )                                                                 \n",
      "                                                                                                  \n",
      " activation_32 (Activation)     (None, 128, 128, 32  0           ['batch_normalization_32[0][0]'] \n",
      "                                )                                                                 \n",
      "                                                                                                  \n",
      " conv2d_34 (Conv2D)             (None, 128, 128, 32  9248        ['activation_32[0][0]']          \n",
      "                                )                                                                 \n",
      "                                                                                                  \n",
      " batch_normalization_33 (BatchN  (None, 128, 128, 32  128        ['conv2d_34[0][0]']              \n",
      " ormalization)                  )                                                                 \n",
      "                                                                                                  \n",
      " activation_33 (Activation)     (None, 128, 128, 32  0           ['batch_normalization_33[0][0]'] \n",
      "                                )                                                                 \n",
      "                                                                                                  \n",
      " up_sampling2d_7 (UpSampling2D)  (None, 256, 256, 32  0          ['activation_33[0][0]']          \n",
      "                                )                                                                 \n",
      "                                                                                                  \n",
      " concatenate_7 (Concatenate)    (None, 256, 256, 48  0           ['up_sampling2d_7[0][0]',        \n",
      "                                )                                 'activation_19[0][0]']          \n",
      "                                                                                                  \n",
      " conv2d_35 (Conv2D)             (None, 256, 256, 16  6928        ['concatenate_7[0][0]']          \n",
      "                                )                                                                 \n",
      "                                                                                                  \n",
      " batch_normalization_34 (BatchN  (None, 256, 256, 16  64         ['conv2d_35[0][0]']              \n",
      " ormalization)                  )                                                                 \n"
     ]
    },
    {
     "name": "stdout",
     "output_type": "stream",
     "text": [
      "                                                                                                  \n",
      " activation_34 (Activation)     (None, 256, 256, 16  0           ['batch_normalization_34[0][0]'] \n",
      "                                )                                                                 \n",
      "                                                                                                  \n",
      " conv2d_36 (Conv2D)             (None, 256, 256, 16  2320        ['activation_34[0][0]']          \n",
      "                                )                                                                 \n",
      "                                                                                                  \n",
      " batch_normalization_35 (BatchN  (None, 256, 256, 16  64         ['conv2d_36[0][0]']              \n",
      " ormalization)                  )                                                                 \n",
      "                                                                                                  \n",
      " activation_35 (Activation)     (None, 256, 256, 16  0           ['batch_normalization_35[0][0]'] \n",
      "                                )                                                                 \n",
      "                                                                                                  \n",
      " conv2d_37 (Conv2D)             (None, 256, 256, 1)  17          ['activation_35[0][0]']          \n",
      "                                                                                                  \n",
      "==================================================================================================\n",
      "Total params: 1,968,513\n",
      "Trainable params: 1,965,569\n",
      "Non-trainable params: 2,944\n",
      "__________________________________________________________________________________________________\n"
=======
   "execution_count": 5,
   "id": "e425feb4",
   "metadata": {},
   "outputs": [
    {
     "name": "stderr",
     "output_type": "stream",
     "text": [
      "2023-04-24 20:40:27.174920: I tensorflow/compiler/xla/stream_executor/cuda/cuda_gpu_executor.cc:981] successful NUMA node read from SysFS had negative value (-1), but there must be at least one NUMA node, so returning NUMA node zero\n",
      "2023-04-24 20:40:27.184206: I tensorflow/compiler/xla/stream_executor/cuda/cuda_gpu_executor.cc:981] successful NUMA node read from SysFS had negative value (-1), but there must be at least one NUMA node, so returning NUMA node zero\n",
      "2023-04-24 20:40:27.185112: I tensorflow/compiler/xla/stream_executor/cuda/cuda_gpu_executor.cc:981] successful NUMA node read from SysFS had negative value (-1), but there must be at least one NUMA node, so returning NUMA node zero\n",
      "2023-04-24 20:40:27.186205: I tensorflow/core/platform/cpu_feature_guard.cc:193] This TensorFlow binary is optimized with oneAPI Deep Neural Network Library (oneDNN) to use the following CPU instructions in performance-critical operations:  AVX2 AVX512F AVX512_VNNI FMA\n",
      "To enable them in other operations, rebuild TensorFlow with the appropriate compiler flags.\n",
      "2023-04-24 20:40:27.186879: I tensorflow/compiler/xla/stream_executor/cuda/cuda_gpu_executor.cc:981] successful NUMA node read from SysFS had negative value (-1), but there must be at least one NUMA node, so returning NUMA node zero\n",
      "2023-04-24 20:40:27.187756: I tensorflow/compiler/xla/stream_executor/cuda/cuda_gpu_executor.cc:981] successful NUMA node read from SysFS had negative value (-1), but there must be at least one NUMA node, so returning NUMA node zero\n",
      "2023-04-24 20:40:27.188522: I tensorflow/compiler/xla/stream_executor/cuda/cuda_gpu_executor.cc:981] successful NUMA node read from SysFS had negative value (-1), but there must be at least one NUMA node, so returning NUMA node zero\n",
      "2023-04-24 20:40:27.746587: I tensorflow/compiler/xla/stream_executor/cuda/cuda_gpu_executor.cc:981] successful NUMA node read from SysFS had negative value (-1), but there must be at least one NUMA node, so returning NUMA node zero\n",
      "2023-04-24 20:40:27.747383: I tensorflow/compiler/xla/stream_executor/cuda/cuda_gpu_executor.cc:981] successful NUMA node read from SysFS had negative value (-1), but there must be at least one NUMA node, so returning NUMA node zero\n",
      "2023-04-24 20:40:27.748136: I tensorflow/compiler/xla/stream_executor/cuda/cuda_gpu_executor.cc:981] successful NUMA node read from SysFS had negative value (-1), but there must be at least one NUMA node, so returning NUMA node zero\n",
      "2023-04-24 20:40:27.748850: I tensorflow/core/common_runtime/gpu/gpu_device.cc:1613] Created device /job:localhost/replica:0/task:0/device:GPU:0 with 22310 MB memory:  -> device: 0, name: NVIDIA RTX A5000, pci bus id: 0000:01:00.0, compute capability: 8.6\n"
>>>>>>> 4fc13573067262c5c43b9c3ef669e23ce12be2e1
     ]
    }
   ],
   "source": [
<<<<<<< HEAD
    "model.summary()"
   ]
  },
  {
   "cell_type": "code",
   "execution_count": 151,
   "id": "e425feb4",
   "metadata": {},
   "outputs": [],
   "source": [
    "# Build model\n",
    "model = build_Unet(filters=16)  # original U-Net: 64 filters\n",
=======
    "# Build model\n",
    "model = build_Unet(filters=32)  # original U-Net: 64 filters\n",
>>>>>>> 4fc13573067262c5c43b9c3ef669e23ce12be2e1
    "\n",
    "# Compiling the model\n",
    "model.compile(optimizer=Adam(learning_rate=1e-3),  # Define optimizer and learning rate\n",
    "              loss=dice_loss,                      # Dice loss function\n",
    "              metrics=[iou_score])     # Intersection over Union (IoU) & Dice score"
   ]
  },
  {
   "cell_type": "code",
<<<<<<< HEAD
   "execution_count": 152,
=======
   "execution_count": 6,
>>>>>>> 4fc13573067262c5c43b9c3ef669e23ce12be2e1
   "id": "be235a3b",
   "metadata": {},
   "outputs": [],
   "source": [
    "def exp_scheduler(epoch, lr):\n",
    "    \"\"\"\n",
    "    Learning rate scheduler.\n",
    "    \"\"\"\n",
    "    if epoch < 20:\n",
    "        return 1e-3\n",
    "    elif epoch < 40:\n",
    "        return 1e-4\n",
    "    elif epoch < 60:\n",
    "        return 1e-5\n",
    "    else:\n",
    "        return lr * np.exp(-0.1)"
   ]
  },
  {
   "cell_type": "code",
<<<<<<< HEAD
   "execution_count": null,
=======
   "execution_count": 7,
>>>>>>> 4fc13573067262c5c43b9c3ef669e23ce12be2e1
   "id": "c1d9b0bb",
   "metadata": {},
   "outputs": [],
   "source": [
    "# Load training data\n",
    "X_train, Y_train = load_train_videos(path_training_vids)"
   ]
  },
  {
   "cell_type": "code",
<<<<<<< HEAD
   "execution_count": 153,
=======
   "execution_count": 8,
>>>>>>> 4fc13573067262c5c43b9c3ef669e23ce12be2e1
   "id": "0135beee",
   "metadata": {
    "scrolled": true
   },
   "outputs": [
    {
     "name": "stdout",
     "output_type": "stream",
     "text": [
<<<<<<< HEAD
      "Epoch 1/80\n",
      "284/284 [==============================] - 36s 124ms/step - loss: 0.9944 - iou_score: 0.0028 - val_loss: 0.9970 - val_iou_score: 0.0015 - lr: 0.0010\n",
      "Epoch 2/80\n",
      "284/284 [==============================] - 34s 118ms/step - loss: 0.9272 - iou_score: 0.0380 - val_loss: 0.9471 - val_iou_score: 0.0282 - lr: 0.0010\n",
      "Epoch 3/80\n",
      "284/284 [==============================] - 34s 120ms/step - loss: 0.9155 - iou_score: 0.0449 - val_loss: 1.0000 - val_iou_score: 7.5949e-07 - lr: 0.0010\n",
      "Epoch 4/80\n",
      "284/284 [==============================] - 34s 121ms/step - loss: 1.0000 - iou_score: 3.4794e-07 - val_loss: 1.0000 - val_iou_score: 4.1201e-07 - lr: 0.0010\n",
      "Epoch 5/80\n",
      "284/284 [==============================] - 34s 121ms/step - loss: 1.0000 - iou_score: 3.7410e-07 - val_loss: 1.0000 - val_iou_score: 4.3169e-07 - lr: 0.0010\n",
      "Epoch 6/80\n",
      "284/284 [==============================] - 34s 121ms/step - loss: 1.0000 - iou_score: 3.9145e-07 - val_loss: 1.0000 - val_iou_score: 4.7297e-07 - lr: 0.0010\n",
      "Epoch 7/80\n",
      "284/284 [==============================] - 34s 121ms/step - loss: 1.0000 - iou_score: 1.2067e-06 - val_loss: 1.0000 - val_iou_score: 3.1321e-06 - lr: 0.0010\n",
      "Epoch 8/80\n",
      "284/284 [==============================] - 35s 122ms/step - loss: 0.9177 - iou_score: 0.0435 - val_loss: 0.9415 - val_iou_score: 0.0314 - lr: 0.0010\n",
      "Epoch 9/80\n",
      "284/284 [==============================] - 35s 122ms/step - loss: 0.8846 - iou_score: 0.0615 - val_loss: 0.9296 - val_iou_score: 0.0387 - lr: 0.0010\n",
      "Epoch 10/80\n",
      "284/284 [==============================] - 35s 122ms/step - loss: 0.8770 - iou_score: 0.0659 - val_loss: 0.9214 - val_iou_score: 0.0428 - lr: 0.0010\n",
      "Epoch 11/80\n",
      "284/284 [==============================] - 35s 122ms/step - loss: 0.8692 - iou_score: 0.0704 - val_loss: 0.9482 - val_iou_score: 0.0280 - lr: 0.0010\n",
      "Epoch 12/80\n",
      "284/284 [==============================] - 35s 122ms/step - loss: 0.8678 - iou_score: 0.0712 - val_loss: 0.9241 - val_iou_score: 0.0414 - lr: 0.0010\n",
      "Epoch 13/80\n",
      "284/284 [==============================] - 35s 122ms/step - loss: 0.8616 - iou_score: 0.0747 - val_loss: 0.9325 - val_iou_score: 0.0363 - lr: 0.0010\n",
      "Epoch 14/80\n",
      "284/284 [==============================] - 35s 122ms/step - loss: 0.8573 - iou_score: 0.0772 - val_loss: 0.9217 - val_iou_score: 0.0431 - lr: 0.0010\n",
      "Epoch 15/80\n",
      "284/284 [==============================] - 35s 122ms/step - loss: 0.8599 - iou_score: 0.0758 - val_loss: 0.9284 - val_iou_score: 0.0384 - lr: 0.0010\n",
      "Epoch 16/80\n",
      "284/284 [==============================] - 35s 122ms/step - loss: 0.8566 - iou_score: 0.0777 - val_loss: 0.9397 - val_iou_score: 0.0330 - lr: 0.0010\n",
      "Epoch 17/80\n",
      "284/284 [==============================] - 35s 122ms/step - loss: 0.8504 - iou_score: 0.0813 - val_loss: 0.9343 - val_iou_score: 0.0357 - lr: 0.0010\n",
      "Epoch 18/80\n",
      "284/284 [==============================] - 35s 122ms/step - loss: 0.8561 - iou_score: 0.0779 - val_loss: 0.9366 - val_iou_score: 0.0344 - lr: 0.0010\n",
      "Epoch 19/80\n",
      "284/284 [==============================] - 35s 122ms/step - loss: 0.8488 - iou_score: 0.0822 - val_loss: 0.9373 - val_iou_score: 0.0339 - lr: 0.0010\n",
      "Epoch 20/80\n",
      "284/284 [==============================] - 35s 122ms/step - loss: 0.8504 - iou_score: 0.0812 - val_loss: 0.9277 - val_iou_score: 0.0394 - lr: 0.0010\n",
      "Epoch 21/80\n",
      "284/284 [==============================] - 35s 122ms/step - loss: 0.8302 - iou_score: 0.0932 - val_loss: 0.9081 - val_iou_score: 0.0508 - lr: 1.0000e-04\n",
      "Epoch 22/80\n",
      "284/284 [==============================] - 35s 122ms/step - loss: 0.8248 - iou_score: 0.0965 - val_loss: 0.9066 - val_iou_score: 0.0516 - lr: 1.0000e-04\n",
      "Epoch 23/80\n",
      "284/284 [==============================] - 35s 122ms/step - loss: 0.8204 - iou_score: 0.0992 - val_loss: 0.9047 - val_iou_score: 0.0527 - lr: 1.0000e-04\n",
      "Epoch 24/80\n",
      "284/284 [==============================] - 35s 122ms/step - loss: 0.8188 - iou_score: 0.1002 - val_loss: 0.9023 - val_iou_score: 0.0541 - lr: 1.0000e-04\n",
      "Epoch 25/80\n",
      "284/284 [==============================] - 35s 122ms/step - loss: 0.8180 - iou_score: 0.1007 - val_loss: 0.9074 - val_iou_score: 0.0513 - lr: 1.0000e-04\n",
      "Epoch 26/80\n",
      "284/284 [==============================] - 35s 121ms/step - loss: 0.8135 - iou_score: 0.1037 - val_loss: 0.9038 - val_iou_score: 0.0533 - lr: 1.0000e-04\n",
      "Epoch 27/80\n",
      "284/284 [==============================] - 35s 122ms/step - loss: 0.8119 - iou_score: 0.1044 - val_loss: 0.9028 - val_iou_score: 0.0539 - lr: 1.0000e-04\n",
      "Epoch 28/80\n",
      "284/284 [==============================] - 34s 121ms/step - loss: 0.8114 - iou_score: 0.1048 - val_loss: 0.9060 - val_iou_score: 0.0520 - lr: 1.0000e-04\n",
      "Epoch 29/80\n",
      "284/284 [==============================] - 35s 122ms/step - loss: 0.8077 - iou_score: 0.1070 - val_loss: 0.9035 - val_iou_score: 0.0533 - lr: 1.0000e-04\n",
      "Epoch 30/80\n",
      "284/284 [==============================] - 35s 122ms/step - loss: 0.8077 - iou_score: 0.1071 - val_loss: 0.9096 - val_iou_score: 0.0499 - lr: 1.0000e-04\n",
      "Epoch 31/80\n",
      "284/284 [==============================] - 35s 122ms/step - loss: 0.8062 - iou_score: 0.1082 - val_loss: 0.9053 - val_iou_score: 0.0525 - lr: 1.0000e-04\n",
      "Epoch 32/80\n",
      "284/284 [==============================] - 35s 122ms/step - loss: 0.8055 - iou_score: 0.1084 - val_loss: 0.9053 - val_iou_score: 0.0525 - lr: 1.0000e-04\n",
      "Epoch 33/80\n",
      "284/284 [==============================] - 35s 122ms/step - loss: 0.8046 - iou_score: 0.1089 - val_loss: 0.9056 - val_iou_score: 0.0524 - lr: 1.0000e-04\n",
      "Epoch 34/80\n",
      "284/284 [==============================] - 35s 122ms/step - loss: 0.8013 - iou_score: 0.1110 - val_loss: 0.9088 - val_iou_score: 0.0506 - lr: 1.0000e-04\n",
      "Epoch 35/80\n",
      "284/284 [==============================] - 35s 122ms/step - loss: 0.8013 - iou_score: 0.1111 - val_loss: 0.9004 - val_iou_score: 0.0556 - lr: 1.0000e-04\n",
      "Epoch 36/80\n",
      "284/284 [==============================] - 35s 122ms/step - loss: 0.7987 - iou_score: 0.1126 - val_loss: 0.9048 - val_iou_score: 0.0527 - lr: 1.0000e-04\n",
      "Epoch 37/80\n",
      "284/284 [==============================] - 34s 121ms/step - loss: 0.8011 - iou_score: 0.1111 - val_loss: 0.8994 - val_iou_score: 0.0560 - lr: 1.0000e-04\n",
      "Epoch 38/80\n",
      "284/284 [==============================] - 35s 122ms/step - loss: 0.7975 - iou_score: 0.1134 - val_loss: 0.9062 - val_iou_score: 0.0518 - lr: 1.0000e-04\n",
      "Epoch 39/80\n",
      "284/284 [==============================] - 35s 122ms/step - loss: 0.7962 - iou_score: 0.1142 - val_loss: 0.9045 - val_iou_score: 0.0532 - lr: 1.0000e-04\n",
      "Epoch 40/80\n",
      "284/284 [==============================] - 35s 122ms/step - loss: 0.7942 - iou_score: 0.1155 - val_loss: 0.9061 - val_iou_score: 0.0520 - lr: 1.0000e-04\n",
      "Epoch 41/80\n",
      "284/284 [==============================] - 35s 122ms/step - loss: 0.7930 - iou_score: 0.1163 - val_loss: 0.9072 - val_iou_score: 0.0514 - lr: 1.0000e-05\n",
      "Epoch 42/80\n",
      "284/284 [==============================] - 35s 122ms/step - loss: 0.7915 - iou_score: 0.1172 - val_loss: 0.9073 - val_iou_score: 0.0513 - lr: 1.0000e-05\n",
      "Epoch 43/80\n",
      "284/284 [==============================] - 35s 122ms/step - loss: 0.7900 - iou_score: 0.1181 - val_loss: 0.9057 - val_iou_score: 0.0523 - lr: 1.0000e-05\n",
      "Epoch 44/80\n",
      "284/284 [==============================] - 35s 122ms/step - loss: 0.7909 - iou_score: 0.1176 - val_loss: 0.9054 - val_iou_score: 0.0525 - lr: 1.0000e-05\n",
      "Epoch 45/80\n",
      "284/284 [==============================] - 34s 121ms/step - loss: 0.7903 - iou_score: 0.1180 - val_loss: 0.9059 - val_iou_score: 0.0521 - lr: 1.0000e-05\n",
      "Epoch 46/80\n",
      "284/284 [==============================] - 35s 122ms/step - loss: 0.7893 - iou_score: 0.1184 - val_loss: 0.9072 - val_iou_score: 0.0514 - lr: 1.0000e-05\n",
      "Epoch 47/80\n",
      "284/284 [==============================] - 35s 122ms/step - loss: 0.7894 - iou_score: 0.1184 - val_loss: 0.9058 - val_iou_score: 0.0522 - lr: 1.0000e-05\n",
      "Epoch 48/80\n",
      "284/284 [==============================] - 35s 122ms/step - loss: 0.7886 - iou_score: 0.1190 - val_loss: 0.9061 - val_iou_score: 0.0520 - lr: 1.0000e-05\n",
      "Epoch 49/80\n",
      "284/284 [==============================] - 35s 122ms/step - loss: 0.7887 - iou_score: 0.1190 - val_loss: 0.9063 - val_iou_score: 0.0519 - lr: 1.0000e-05\n",
      "Epoch 50/80\n",
      "284/284 [==============================] - 35s 122ms/step - loss: 0.7896 - iou_score: 0.1184 - val_loss: 0.9053 - val_iou_score: 0.0526 - lr: 1.0000e-05\n"
     ]
    },
    {
     "name": "stdout",
     "output_type": "stream",
     "text": [
      "Epoch 51/80\n",
      "284/284 [==============================] - 35s 122ms/step - loss: 0.7891 - iou_score: 0.1188 - val_loss: 0.9050 - val_iou_score: 0.0526 - lr: 1.0000e-05\n",
      "Epoch 52/80\n",
      "284/284 [==============================] - 35s 122ms/step - loss: 0.7885 - iou_score: 0.1189 - val_loss: 0.9051 - val_iou_score: 0.0526 - lr: 1.0000e-05\n",
      "Epoch 53/80\n",
      "284/284 [==============================] - 35s 122ms/step - loss: 0.7876 - iou_score: 0.1195 - val_loss: 0.9056 - val_iou_score: 0.0523 - lr: 1.0000e-05\n",
      "Epoch 54/80\n",
      "284/284 [==============================] - 35s 122ms/step - loss: 0.7885 - iou_score: 0.1191 - val_loss: 0.9062 - val_iou_score: 0.0519 - lr: 1.0000e-05\n",
      "Epoch 55/80\n",
      "284/284 [==============================] - 35s 122ms/step - loss: 0.7882 - iou_score: 0.1192 - val_loss: 0.9057 - val_iou_score: 0.0523 - lr: 1.0000e-05\n",
      "Epoch 56/80\n",
      "284/284 [==============================] - 35s 122ms/step - loss: 0.7880 - iou_score: 0.1194 - val_loss: 0.9051 - val_iou_score: 0.0526 - lr: 1.0000e-05\n",
      "Epoch 57/80\n",
      "284/284 [==============================] - 35s 122ms/step - loss: 0.7885 - iou_score: 0.1191 - val_loss: 0.9063 - val_iou_score: 0.0519 - lr: 1.0000e-05\n",
      "Epoch 58/80\n",
      "284/284 [==============================] - 35s 122ms/step - loss: 0.7852 - iou_score: 0.1210 - val_loss: 0.9063 - val_iou_score: 0.0519 - lr: 1.0000e-05\n",
      "Epoch 59/80\n",
      "284/284 [==============================] - 35s 122ms/step - loss: 0.7869 - iou_score: 0.1200 - val_loss: 0.9073 - val_iou_score: 0.0513 - lr: 1.0000e-05\n",
      "Epoch 60/80\n",
      "284/284 [==============================] - 35s 122ms/step - loss: 0.7861 - iou_score: 0.1205 - val_loss: 0.9072 - val_iou_score: 0.0514 - lr: 1.0000e-05\n",
      "Epoch 61/80\n",
      "284/284 [==============================] - 35s 122ms/step - loss: 0.7870 - iou_score: 0.1201 - val_loss: 0.9066 - val_iou_score: 0.0517 - lr: 9.0484e-06\n",
      "Epoch 62/80\n",
      "284/284 [==============================] - 35s 122ms/step - loss: 0.7867 - iou_score: 0.1202 - val_loss: 0.9065 - val_iou_score: 0.0517 - lr: 8.1873e-06\n",
      "Epoch 63/80\n",
      "284/284 [==============================] - 35s 122ms/step - loss: 0.7856 - iou_score: 0.1208 - val_loss: 0.9056 - val_iou_score: 0.0522 - lr: 7.4082e-06\n",
      "Epoch 64/80\n",
      "284/284 [==============================] - 35s 122ms/step - loss: 0.7860 - iou_score: 0.1206 - val_loss: 0.9053 - val_iou_score: 0.0524 - lr: 6.7032e-06\n",
      "Epoch 65/80\n",
      "284/284 [==============================] - 35s 122ms/step - loss: 0.7868 - iou_score: 0.1202 - val_loss: 0.9047 - val_iou_score: 0.0527 - lr: 6.0653e-06\n",
      "Epoch 66/80\n",
      "284/284 [==============================] - 35s 122ms/step - loss: 0.7866 - iou_score: 0.1202 - val_loss: 0.9057 - val_iou_score: 0.0522 - lr: 5.4881e-06\n",
      "Epoch 67/80\n",
      "284/284 [==============================] - 35s 122ms/step - loss: 0.7872 - iou_score: 0.1200 - val_loss: 0.9057 - val_iou_score: 0.0522 - lr: 4.9659e-06\n",
      "Epoch 68/80\n",
      "284/284 [==============================] - 35s 122ms/step - loss: 0.7851 - iou_score: 0.1211 - val_loss: 0.9062 - val_iou_score: 0.0519 - lr: 4.4933e-06\n",
      "Epoch 69/80\n",
      "284/284 [==============================] - 35s 122ms/step - loss: 0.7853 - iou_score: 0.1210 - val_loss: 0.9056 - val_iou_score: 0.0522 - lr: 4.0657e-06\n",
      "Epoch 70/80\n",
      "284/284 [==============================] - 35s 122ms/step - loss: 0.7851 - iou_score: 0.1212 - val_loss: 0.9061 - val_iou_score: 0.0520 - lr: 3.6788e-06\n",
      "Epoch 71/80\n",
      "284/284 [==============================] - 35s 122ms/step - loss: 0.7852 - iou_score: 0.1212 - val_loss: 0.9064 - val_iou_score: 0.0518 - lr: 3.3287e-06\n",
      "Epoch 72/80\n",
      "284/284 [==============================] - 35s 122ms/step - loss: 0.7858 - iou_score: 0.1208 - val_loss: 0.9065 - val_iou_score: 0.0517 - lr: 3.0119e-06\n",
      "Epoch 73/80\n",
      "284/284 [==============================] - 35s 122ms/step - loss: 0.7854 - iou_score: 0.1210 - val_loss: 0.9063 - val_iou_score: 0.0519 - lr: 2.7253e-06\n",
      "Epoch 74/80\n",
      "284/284 [==============================] - 35s 122ms/step - loss: 0.7855 - iou_score: 0.1210 - val_loss: 0.9063 - val_iou_score: 0.0519 - lr: 2.4660e-06\n",
      "Epoch 75/80\n",
      "284/284 [==============================] - 35s 122ms/step - loss: 0.7862 - iou_score: 0.1206 - val_loss: 0.9057 - val_iou_score: 0.0522 - lr: 2.2313e-06\n",
      "Epoch 76/80\n",
      "284/284 [==============================] - 35s 122ms/step - loss: 0.7847 - iou_score: 0.1214 - val_loss: 0.9063 - val_iou_score: 0.0519 - lr: 2.0190e-06\n",
      "Epoch 77/80\n",
      "284/284 [==============================] - 35s 122ms/step - loss: 0.7848 - iou_score: 0.1213 - val_loss: 0.9062 - val_iou_score: 0.0519 - lr: 1.8268e-06\n",
      "Epoch 78/80\n",
      "284/284 [==============================] - 35s 122ms/step - loss: 0.7854 - iou_score: 0.1211 - val_loss: 0.9061 - val_iou_score: 0.0520 - lr: 1.6530e-06\n",
      "Epoch 79/80\n",
      "284/284 [==============================] - 35s 122ms/step - loss: 0.7845 - iou_score: 0.1215 - val_loss: 0.9061 - val_iou_score: 0.0520 - lr: 1.4957e-06\n",
      "Epoch 80/80\n",
      "284/284 [==============================] - 34s 121ms/step - loss: 0.7851 - iou_score: 0.1212 - val_loss: 0.9059 - val_iou_score: 0.0521 - lr: 1.3534e-06\n"
=======
      "Epoch 1/80\n"
     ]
    },
    {
     "name": "stderr",
     "output_type": "stream",
     "text": [
      "2023-04-24 20:40:58.680383: I tensorflow/compiler/xla/stream_executor/cuda/cuda_dnn.cc:428] Loaded cuDNN version 8200\n",
      "2023-04-24 20:40:59.361282: I tensorflow/tsl/platform/default/subprocess.cc:304] Start cannot spawn child process: No such file or directory\n",
      "2023-04-24 20:41:01.639245: I tensorflow/compiler/xla/service/service.cc:173] XLA service 0x7f2ec67d7b00 initialized for platform CUDA (this does not guarantee that XLA will be used). Devices:\n",
      "2023-04-24 20:41:01.639265: I tensorflow/compiler/xla/service/service.cc:181]   StreamExecutor device (0): NVIDIA RTX A5000, Compute Capability 8.6\n",
      "2023-04-24 20:41:01.641928: I tensorflow/compiler/mlir/tensorflow/utils/dump_mlir_util.cc:268] disabling MLIR crash reproducer, set env var `MLIR_CRASH_REPRODUCER_DIRECTORY` to enable.\n",
      "2023-04-24 20:41:01.683651: I tensorflow/tsl/platform/default/subprocess.cc:304] Start cannot spawn child process: No such file or directory\n",
      "2023-04-24 20:41:01.719440: I tensorflow/compiler/jit/xla_compilation_cache.cc:477] Compiled cluster using XLA!  This line is logged at most once for the lifetime of the process.\n",
      "2023-04-24 20:41:03.291836: W tensorflow/tsl/framework/bfc_allocator.cc:290] Allocator (GPU_0_bfc) ran out of memory trying to allocate 7.07GiB with freed_by_count=0. The caller indicates that this is not a failure, but this may mean that there could be performance gains if more memory were available.\n",
      "2023-04-24 20:41:03.291856: W tensorflow/tsl/framework/bfc_allocator.cc:290] Allocator (GPU_0_bfc) ran out of memory trying to allocate 7.07GiB with freed_by_count=0. The caller indicates that this is not a failure, but this may mean that there could be performance gains if more memory were available.\n"
     ]
    },
    {
     "name": "stdout",
     "output_type": "stream",
     "text": [
      "283/284 [============================>.] - ETA: 0s - loss: 0.9863 - iou_score: 0.0070"
     ]
    },
    {
     "name": "stderr",
     "output_type": "stream",
     "text": [
      "2023-04-24 20:42:12.368003: W tensorflow/tsl/framework/bfc_allocator.cc:290] Allocator (GPU_0_bfc) ran out of memory trying to allocate 7.30GiB with freed_by_count=0. The caller indicates that this is not a failure, but this may mean that there could be performance gains if more memory were available.\n",
      "2023-04-24 20:42:12.368023: W tensorflow/tsl/framework/bfc_allocator.cc:290] Allocator (GPU_0_bfc) ran out of memory trying to allocate 7.30GiB with freed_by_count=0. The caller indicates that this is not a failure, but this may mean that there could be performance gains if more memory were available.\n"
     ]
    },
    {
     "name": "stdout",
     "output_type": "stream",
     "text": [
      "\b\b\b\b\b\b\b\b\b\b\b\b\b\b\b\b\b\b\b\b\b\b\b\b\b\b\b\b\b\b\b\b\b\b\b\b\b\b\b\b\b\b\b\b\b\b\b\b\b\b\b\b\b\b\b\b\b\b\b\b\b\b\b\b\b\b\b\b\b\b\b\b\b\b\b\b\b\b\b\b\b\b\b\b\b\r",
      "284/284 [==============================] - ETA: 0s - loss: 0.9862 - iou_score: 0.0070"
     ]
    },
    {
     "name": "stderr",
     "output_type": "stream",
     "text": [
      "2023-04-24 20:42:18.631117: W tensorflow/tsl/framework/bfc_allocator.cc:290] Allocator (GPU_0_bfc) ran out of memory trying to allocate 7.76GiB with freed_by_count=0. The caller indicates that this is not a failure, but this may mean that there could be performance gains if more memory were available.\n",
      "2023-04-24 20:42:18.631136: W tensorflow/tsl/framework/bfc_allocator.cc:290] Allocator (GPU_0_bfc) ran out of memory trying to allocate 7.76GiB with freed_by_count=0. The caller indicates that this is not a failure, but this may mean that there could be performance gains if more memory were available.\n"
     ]
    },
    {
     "name": "stdout",
     "output_type": "stream",
     "text": [
      "284/284 [==============================] - 83s 253ms/step - loss: 0.9862 - iou_score: 0.0070 - val_loss: 0.9927 - val_iou_score: 0.0040 - lr: 0.0010\n",
      "Epoch 2/80\n",
      "284/284 [==============================] - 68s 241ms/step - loss: 0.9246 - iou_score: 0.0394 - val_loss: 0.9536 - val_iou_score: 0.0247 - lr: 0.0010\n",
      "Epoch 3/80\n",
      "284/284 [==============================] - 69s 242ms/step - loss: 0.9036 - iou_score: 0.0509 - val_loss: 0.9391 - val_iou_score: 0.0328 - lr: 0.0010\n",
      "Epoch 4/80\n",
      "284/284 [==============================] - 69s 243ms/step - loss: 0.8953 - iou_score: 0.0555 - val_loss: 0.9335 - val_iou_score: 0.0359 - lr: 0.0010\n",
      "Epoch 5/80\n",
      "284/284 [==============================] - 69s 243ms/step - loss: 0.8872 - iou_score: 0.0601 - val_loss: 0.9494 - val_iou_score: 0.0264 - lr: 0.0010\n",
      "Epoch 6/80\n",
      "284/284 [==============================] - 69s 243ms/step - loss: 0.8914 - iou_score: 0.0579 - val_loss: 0.9136 - val_iou_score: 0.0468 - lr: 0.0010\n",
      "Epoch 7/80\n",
      "284/284 [==============================] - 69s 244ms/step - loss: 0.8789 - iou_score: 0.0648 - val_loss: 0.9492 - val_iou_score: 0.0276 - lr: 0.0010\n",
      "Epoch 8/80\n",
      "284/284 [==============================] - 69s 243ms/step - loss: 0.8669 - iou_score: 0.0716 - val_loss: 0.9460 - val_iou_score: 0.0296 - lr: 0.0010\n",
      "Epoch 9/80\n",
      "284/284 [==============================] - 69s 243ms/step - loss: 0.8667 - iou_score: 0.0718 - val_loss: 0.9222 - val_iou_score: 0.0421 - lr: 0.0010\n",
      "Epoch 10/80\n",
      "284/284 [==============================] - 69s 243ms/step - loss: 0.8700 - iou_score: 0.0699 - val_loss: 0.9139 - val_iou_score: 0.0474 - lr: 0.0010\n",
      "Epoch 11/80\n",
      "284/284 [==============================] - 69s 243ms/step - loss: 0.8617 - iou_score: 0.0747 - val_loss: 0.9501 - val_iou_score: 0.0265 - lr: 0.0010\n",
      "Epoch 12/80\n",
      "284/284 [==============================] - 69s 243ms/step - loss: 0.8635 - iou_score: 0.0737 - val_loss: 0.9156 - val_iou_score: 0.0457 - lr: 0.0010\n",
      "Epoch 13/80\n",
      "284/284 [==============================] - 69s 243ms/step - loss: 0.8587 - iou_score: 0.0764 - val_loss: 0.9042 - val_iou_score: 0.0528 - lr: 0.0010\n",
      "Epoch 14/80\n",
      "284/284 [==============================] - 69s 243ms/step - loss: 0.8629 - iou_score: 0.0740 - val_loss: 0.9318 - val_iou_score: 0.0368 - lr: 0.0010\n",
      "Epoch 15/80\n",
      "284/284 [==============================] - 69s 243ms/step - loss: 0.8541 - iou_score: 0.0790 - val_loss: 0.9146 - val_iou_score: 0.0470 - lr: 0.0010\n",
      "Epoch 16/80\n",
      "284/284 [==============================] - 69s 243ms/step - loss: 0.8553 - iou_score: 0.0784 - val_loss: 0.9289 - val_iou_score: 0.0382 - lr: 0.0010\n",
      "Epoch 17/80\n",
      "284/284 [==============================] - 69s 243ms/step - loss: 0.8577 - iou_score: 0.0770 - val_loss: 0.9173 - val_iou_score: 0.0454 - lr: 0.0010\n",
      "Epoch 18/80\n",
      "284/284 [==============================] - 69s 243ms/step - loss: 0.8528 - iou_score: 0.0798 - val_loss: 0.9274 - val_iou_score: 0.0397 - lr: 0.0010\n",
      "Epoch 19/80\n",
      "284/284 [==============================] - 69s 243ms/step - loss: 0.8511 - iou_score: 0.0809 - val_loss: 0.9197 - val_iou_score: 0.0437 - lr: 0.0010\n",
      "Epoch 20/80\n",
      "284/284 [==============================] - 69s 243ms/step - loss: 0.8585 - iou_score: 0.0766 - val_loss: 0.9268 - val_iou_score: 0.0397 - lr: 0.0010\n",
      "Epoch 21/80\n",
      "284/284 [==============================] - 69s 243ms/step - loss: 0.8424 - iou_score: 0.0860 - val_loss: 0.9025 - val_iou_score: 0.0536 - lr: 1.0000e-04\n",
      "Epoch 22/80\n",
      "284/284 [==============================] - 69s 243ms/step - loss: 0.8271 - iou_score: 0.0951 - val_loss: 0.9023 - val_iou_score: 0.0537 - lr: 1.0000e-04\n",
      "Epoch 23/80\n",
      "284/284 [==============================] - 69s 243ms/step - loss: 0.8217 - iou_score: 0.0984 - val_loss: 0.9026 - val_iou_score: 0.0536 - lr: 1.0000e-04\n",
      "Epoch 24/80\n",
      "284/284 [==============================] - 69s 243ms/step - loss: 0.8173 - iou_score: 0.1012 - val_loss: 0.9038 - val_iou_score: 0.0529 - lr: 1.0000e-04\n",
      "Epoch 25/80\n",
      "284/284 [==============================] - 69s 243ms/step - loss: 0.8146 - iou_score: 0.1028 - val_loss: 0.9038 - val_iou_score: 0.0531 - lr: 1.0000e-04\n",
      "Epoch 26/80\n",
      "284/284 [==============================] - 69s 243ms/step - loss: 0.8135 - iou_score: 0.1035 - val_loss: 0.9013 - val_iou_score: 0.0547 - lr: 1.0000e-04\n",
      "Epoch 27/80\n",
      "284/284 [==============================] - 69s 243ms/step - loss: 0.8112 - iou_score: 0.1049 - val_loss: 0.9023 - val_iou_score: 0.0541 - lr: 1.0000e-04\n",
      "Epoch 28/80\n",
      "284/284 [==============================] - 69s 243ms/step - loss: 0.8099 - iou_score: 0.1057 - val_loss: 0.9039 - val_iou_score: 0.0535 - lr: 1.0000e-04\n",
      "Epoch 29/80\n",
      "284/284 [==============================] - 69s 243ms/step - loss: 0.8091 - iou_score: 0.1062 - val_loss: 0.9047 - val_iou_score: 0.0530 - lr: 1.0000e-04\n",
      "Epoch 30/80\n",
      "284/284 [==============================] - 69s 243ms/step - loss: 0.8072 - iou_score: 0.1072 - val_loss: 0.8995 - val_iou_score: 0.0558 - lr: 1.0000e-04\n",
      "Epoch 31/80\n",
      "284/284 [==============================] - 69s 243ms/step - loss: 0.8048 - iou_score: 0.1089 - val_loss: 0.8997 - val_iou_score: 0.0558 - lr: 1.0000e-04\n",
      "Epoch 32/80\n",
      "284/284 [==============================] - 69s 243ms/step - loss: 0.8050 - iou_score: 0.1087 - val_loss: 0.8991 - val_iou_score: 0.0560 - lr: 1.0000e-04\n",
      "Epoch 33/80\n",
      "284/284 [==============================] - 69s 243ms/step - loss: 0.8033 - iou_score: 0.1096 - val_loss: 0.8966 - val_iou_score: 0.0573 - lr: 1.0000e-04\n",
      "Epoch 34/80\n",
      "284/284 [==============================] - 69s 243ms/step - loss: 0.8022 - iou_score: 0.1104 - val_loss: 0.8968 - val_iou_score: 0.0571 - lr: 1.0000e-04\n",
      "Epoch 35/80\n"
     ]
    },
    {
     "name": "stderr",
     "output_type": "stream",
     "text": [
      "IOPub message rate exceeded.\n",
      "The notebook server will temporarily stop sending output\n",
      "to the client in order to avoid crashing it.\n",
      "To change this limit, set the config variable\n",
      "`--NotebookApp.iopub_msg_rate_limit`.\n",
      "\n",
      "Current values:\n",
      "NotebookApp.iopub_msg_rate_limit=1000.0 (msgs/sec)\n",
      "NotebookApp.rate_limit_window=3.0 (secs)\n",
      "\n"
>>>>>>> 4fc13573067262c5c43b9c3ef669e23ce12be2e1
     ]
    }
   ],
   "source": [
    "history = model.fit(x=X_train, y=Y_train, epochs=80,\n",
    "                    callbacks=[LearningRateScheduler(schedule=exp_scheduler, verbose=0)], \n",
    "                    validation_split=0.1)"
   ]
  },
  {
<<<<<<< HEAD
   "cell_type": "markdown",
   "id": "5666a76e",
   "metadata": {},
   "source": [
    "## Apply the model to our test data"
=======
   "cell_type": "code",
   "execution_count": 10,
   "id": "e0e08c74",
   "metadata": {},
   "outputs": [
    {
     "data": {
      "text/plain": [
       "[<matplotlib.lines.Line2D at 0x7f3e2c1bbe50>]"
      ]
     },
     "execution_count": 10,
     "metadata": {},
     "output_type": "execute_result"
    },
    {
     "data": {
      "image/png": "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\n",
      "text/plain": [
       "<Figure size 432x288 with 1 Axes>"
      ]
     },
     "metadata": {
      "needs_background": "light"
     },
     "output_type": "display_data"
    }
   ],
   "source": [
    "plt.plot(history.history['loss'])"
>>>>>>> 4fc13573067262c5c43b9c3ef669e23ce12be2e1
   ]
  },
  {
   "cell_type": "code",
<<<<<<< HEAD
   "execution_count": 202,
   "id": "89c8dd3f",
   "metadata": {
    "scrolled": false
   },
   "outputs": [],
   "source": [
    "def get_final_points_from_predictions(pred, org_shape):\n",
    "    \"\"\"\n",
    "    This function finds cluster where a Hexbug is detected. It resizes the found positions back to fit the original frame shape.\n",
    "    \"\"\"\n",
    "    points = np.transpose(np.where(pred > 0.01))\n",
    "    if len(points) == 0:\n",
    "        return []\n",
    "    \n",
    "    # Perform clustering\n",
    "    eps = 10\n",
    "    min_samples = 1\n",
    "    dbscan = DBSCAN(eps=eps, min_samples=min_samples)\n",
    "    dbscan.fit(points)\n",
    "    labels = dbscan.labels_\n",
    "    \n",
    "    n_clusters = len(set(labels)) - (1 if -1 in labels else 0)\n",
    "    final_points = []\n",
    "    for i in range(n_clusters):\n",
    "        random_point = np.random.choice(np.where(labels == i)[0])\n",
    "        random_point = points[random_point]\n",
    "        random_point[0] = int(random_point[0] * org_shape[0] // target_shape[0])\n",
    "        random_point[1] = int(random_point[1] * org_shape[1] // target_shape[1])\n",
    "    \n",
    "        final_points.append(random_point)\n",
    "    \n",
    "    return final_points[0:5]"
=======
   "execution_count": null,
   "id": "eefc95b6",
   "metadata": {},
   "outputs": [],
   "source": [
    "model.save(\"reference_\")"
   ]
  },
  {
   "cell_type": "markdown",
   "id": "5666a76e",
   "metadata": {},
   "source": [
    "## Apply the model to our test data"
>>>>>>> 4fc13573067262c5c43b9c3ef669e23ce12be2e1
   ]
  },
  {
   "cell_type": "code",
<<<<<<< HEAD
   "execution_count": null,
=======
   "execution_count": 12,
>>>>>>> 4fc13573067262c5c43b9c3ef669e23ce12be2e1
   "id": "deb03355",
   "metadata": {},
   "outputs": [],
   "source": [
    "def load_validation_data(path):\n",
    "    \"\"\"\n",
    "    This function returns all validation videos and the annotations as binary masks (1 at the positions where a Hexbug is located).\n",
    "    All frames are resized and normalized. \n",
    "    \"\"\"\n",
    "    X = []\n",
    "    org_shapes = []\n",
    "    file_names = []\n",
    "    \n",
    "    for vid in os.listdir(path):\n",
    "        path = Path(path)\n",
    "        if \".mp4\" in vid:\n",
    "            with open(path / vid.replace(\"mp4\", \"traco\")) as f:\n",
    "                annotations = json.load(f)['rois']\n",
    "                  \n",
    "            cap = cv2.VideoCapture(str(path / vid))\n",
    "            ret, frame = cap.read()     \n",
    "            org_shape = frame.shape\n",
    "            \n",
    "            file_names.append(path / vid.replace(\"mp4\", \"traco\"))\n",
    "            org_shapes.append(org_shape)\n",
    "            \n",
    "            X_ = []\n",
    "            while ret:\n",
    "                frame = cv2.cvtColor(frame, cv2.COLOR_BGR2RGB)\n",
    "                        \n",
    "                # Resize the frame to the target size using bilinear interpolation\n",
    "                resized_frame = cv2.resize(frame, target_shape, interpolation=cv2.INTER_LINEAR)\n",
    "                \n",
    "                # Normalize to zero mean and unit variance\n",
    "                normalized_frame = (resized_frame.astype('float32') / 255.0 - 0.5) / 0.5\n",
    "                \n",
    "                # Append to lists\n",
    "                X_.append(normalized_frame)\n",
    "                \n",
    "                ret, frame = cap.read()  # read next frame\n",
    "            \n",
    "            X.append(np.asarray(X_))           \n",
    "    \n",
    "    return X, org_shapes, file_names"
   ]
  },
  {
   "cell_type": "code",
<<<<<<< HEAD
   "execution_count": 170,
=======
   "execution_count": 16,
>>>>>>> 4fc13573067262c5c43b9c3ef669e23ce12be2e1
   "id": "9f8fbb34",
   "metadata": {},
   "outputs": [],
   "source": [
<<<<<<< HEAD
    "X_test, org_shapes_test, file_names_test = load_test_data(\"../\")"
=======
    "X_test, org_shapes_test, file_names_test = load_validation_data(\"leaderboard_data\")"
   ]
  },
  {
   "cell_type": "code",
   "execution_count": 24,
   "id": "01ec0fce",
   "metadata": {},
   "outputs": [],
   "source": [
    "def get_final_points_from_predictions(pred, org_shape):\n",
    "    \"\"\"\n",
    "    This function finds cluster where a Hexbug is detected. It resizes the found positions back to fit the original frame shape.\n",
    "    \"\"\"\n",
    "    points = np.transpose(np.where(pred > 0.01))\n",
    "    if len(points) == 0:\n",
    "        return []\n",
    "    \n",
    "    # Perform clustering\n",
    "    eps = 10\n",
    "    min_samples = 1\n",
    "    dbscan = DBSCAN(eps=eps, min_samples=min_samples)\n",
    "    dbscan.fit(points)\n",
    "    labels = dbscan.labels_\n",
    "    \n",
    "    n_clusters = len(set(labels)) - (1 if -1 in labels else 0)\n",
    "    final_points = []\n",
    "    for i in range(n_clusters):\n",
    "        random_point = np.random.choice(np.where(labels == i)[0])\n",
    "        random_point = points[random_point]\n",
    "        random_point[0] = int(random_point[0] * org_shape[0] // target_shape[0])\n",
    "        random_point[1] = int(random_point[1] * org_shape[1] // target_shape[1])\n",
    "    \n",
    "        final_points.append(random_point)\n",
    "    \n",
    "    return final_points[0:5]"
   ]
  },
  {
   "cell_type": "code",
   "execution_count": 25,
   "id": "92ce53c3",
   "metadata": {},
   "outputs": [
    {
     "data": {
      "text/plain": [
       "[PosixPath('leaderboard_data/test0005.traco'),\n",
       " PosixPath('leaderboard_data/test0003.traco'),\n",
       " PosixPath('leaderboard_data/test0001.traco'),\n",
       " PosixPath('leaderboard_data/test0002.traco'),\n",
       " PosixPath('leaderboard_data/test0004.traco')]"
      ]
     },
     "execution_count": 25,
     "metadata": {},
     "output_type": "execute_result"
    }
   ],
   "source": [
    "file_names_test"
   ]
  },
  {
   "cell_type": "code",
   "execution_count": 27,
   "id": "ca358bdc",
   "metadata": {},
   "outputs": [],
   "source": [
    "from export_tool import traco_to_csv, from_array_to_dict, save_list"
>>>>>>> 4fc13573067262c5c43b9c3ef669e23ce12be2e1
   ]
  },
  {
   "cell_type": "code",
<<<<<<< HEAD
   "execution_count": 200,
=======
   "execution_count": 32,
>>>>>>> 4fc13573067262c5c43b9c3ef669e23ce12be2e1
   "id": "62ed0d54",
   "metadata": {},
   "outputs": [
    {
     "name": "stdout",
     "output_type": "stream",
     "text": [
<<<<<<< HEAD
      "4/4 [==============================] - 0s 28ms/step\n",
      "[array([ 278, 1016]), array([1025,  312])]\n",
      "[array([409, 999]), array([1043,  206])]\n",
      "[array([509, 898]), array([1031,  126])]\n",
      "[array([592, 826])]\n",
      "[array([640, 738]), array([895, 126])]\n",
      "[array([664, 658]), array([806, 156])]\n",
      "[array([705, 552]), array([747, 219])]\n",
      "[array([735, 282]), array([735, 476])]\n",
      "[array([711, 388]), array([776, 350])]\n",
      "[array([670, 303]), array([871, 392])]\n",
      "[array([652, 248]), array([984, 367])]\n",
      "[array([664, 160]), array([1049,  307])]\n",
      "[array([670,  75]), array([1102,  227])]\n",
      "[array([652,  42]), array([1114,  113])]\n",
      "[array([575,  54])]\n",
      "[array([492, 105]), array([1185,   54])]\n",
      "[array([432, 143]), array([1274,   59])]\n",
      "[array([373, 164]), array([1346,  126])]\n",
      "[array([343, 202])]\n",
      "[array([314, 227])]\n",
      "[array([290, 265])]\n",
      "[array([290, 316])]\n",
      "[array([332, 388])]\n",
      "[array([379, 459])]\n",
      "[array([320, 506])]\n",
      "[array([320, 561])]\n",
      "[array([355, 615])]\n",
      "[array([367, 670]), array([1452,  320])]\n",
      "[array([290, 700]), array([1464,  350])]\n",
      "[array([302, 755]), array([1464,  383])]\n",
      "[array([385, 822]), array([1375,  400])]\n",
      "[array([480, 847]), array([1346,  430])]\n",
      "[array([569, 843]), array([1328,  476])]\n",
      "[array([652, 852]), array([1316,  561]), array([1387,  409])]\n",
      "[array([729, 869]), array([1363,  645])]\n",
      "[array([800, 843]), array([1446,  712])]\n",
      "[array([877, 810]), array([1494,  750])]\n",
      "[array([936, 810]), array([1387,  793])]\n",
      "[array([1019,  767]), array([1375,  860])]\n",
      "[array([1102,  750]), array([1452,  932])]\n",
      "[array([1180,  687]), array([1476,  936])]\n",
      "[array([1245,  637]), array([1464,  894])]\n",
      "[array([1304,  565])]\n",
      "[array([1340,  472])]\n",
      "[array([1357,  371]), array([1458,  902])]\n",
      "[array([1363,  274]), array([1405,  945])]\n",
      "[array([1417,  206])]\n",
      "[array([1405, 1016]), array([1440,  109])]\n",
      "[]\n",
      "[array([1393,   37])]\n",
      "[array([1292,   54]), array([1346,  987])]\n",
      "[array([1280,  978])]\n",
      "[array([1233, 1016])]\n",
      "[array([1091,  118]), array([1203, 1029])]\n",
      "[array([1031,  147]), array([1138,  928])]\n",
      "[array([960, 189]), array([1067,  847])]\n",
      "[array([930, 236]), array([960, 822])]\n",
      "[array([865, 826]), array([913, 295])]\n",
      "[array([794, 873]), array([942, 333])]\n",
      "[array([729, 940]), array([948, 396])]\n",
      "[array([693, 995]), array([925, 434])]\n",
      "[array([622, 987]), array([895, 464])]\n",
      "[array([557, 936]), array([889, 489])]\n",
      "[array([480, 982]), array([889, 540])]\n",
      "[array([415, 974]), array([877, 615])]\n",
      "[array([355, 932]), array([930, 679])]\n",
      "[array([278, 911]), array([942, 742])]\n",
      "[array([195, 974]), array([954, 805])]\n",
      "[array([ 166, 1054]), array([978, 877])]\n",
      "[array([148, 881]), array([960, 928])]\n",
      "[array([272, 995]), array([1002,  978])]\n",
      "[array([409, 860]), array([1055, 1020])]\n",
      "[array([444, 712]), array([1150, 1025])]\n",
      "[array([379, 632]), array([1245, 1016])]\n",
      "[array([302, 628]), array([1322,  966])]\n",
      "[array([225, 582]), array([1369,  898])]\n",
      "[array([166, 561]), array([1417,  818])]\n",
      "[array([ 71, 548])]\n",
      "[array([ 29, 586]), array([1387,  658])]\n",
      "[array([ 47, 675]), array([1340,  590])]\n",
      "[array([100, 763]), array([1316,  531])]\n",
      "[array([189, 810]), array([1239,  472])]\n",
      "[array([296, 797]), array([1168,  413])]\n",
      "[array([391, 750]), array([1138,  341])]\n",
      "[array([474, 658]), array([1085,  282])]\n",
      "[array([438, 552]), array([1037,  236])]\n",
      "[array([409, 476]), array([966, 198])]\n",
      "[array([421, 383]), array([919, 151])]\n",
      "[array([391, 312]), array([913, 101])]\n",
      "[array([337, 265]), array([877,  59])]\n",
      "[array([254, 202]), array([800, 113])]\n",
      "[array([219, 126]), array([741, 168])]\n",
      "[array([148,  42]), array([693, 181])]\n",
      "[array([ 47, 126]), array([628, 185])]\n",
      "[array([ 41, 151]), array([563, 109])]\n",
      "[array([136, 265])]\n",
      "[array([266, 316]), array([432, 109])]\n",
      "[array([379, 194]), array([385, 291])]\n",
      "[array([385, 232]), array([468, 282])]\n",
      "[array([421, 215]), array([551, 282])]\n",
      "[array([385, 270]), array([634, 240])]\n"
=======
      "4/4 [==============================] - 0s 61ms/step\n",
      "Saving to csv\n",
      "Done\n",
      "4/4 [==============================] - 0s 61ms/step\n",
      "Saving to csv\n",
      "Done\n",
      "4/4 [==============================] - 0s 61ms/step\n",
      "Saving to csv\n",
      "Done\n",
      "4/4 [==============================] - 0s 61ms/step\n",
      "Saving to csv\n",
      "Done\n",
      "4/4 [==============================] - 0s 61ms/step\n",
      "Saving to csv\n",
      "Done\n"
>>>>>>> 4fc13573067262c5c43b9c3ef669e23ce12be2e1
     ]
    }
   ],
   "source": [
<<<<<<< HEAD
    "\n",
    "for idx, x in enumerate(X_test):\n",
    "    rois = []\n",
    "    \n",
=======
    "for idx, x in enumerate(X_test):    \n",
>>>>>>> 4fc13573067262c5c43b9c3ef669e23ce12be2e1
    "    # Predict all frames of one video\n",
    "    preds = model.predict(x)\n",
    "    \n",
    "    org_shape = org_shapes_test[idx]\n",
    "    file_name = file_names_test[idx]\n",
    "    \n",
<<<<<<< HEAD
    "    d = {'rois': []}\n",
    "    # Get final predicted points for each frame\n",
    "    for pred in preds:\n",
    "        pred = np.squeeze(pred)\n",
    "        coords = get_final_points_from_predictions(pred, org_shape)\n",
    "        print(coords)\n",
    "        \n",
    "    # Create final csv with all predictions\n",
    "    \n",
    "    \n",
    "    \n",
    "    \n",
    "#for frame, org_shape in zip(X_test, org_shapes_test):\n",
    "    #pred = np.squeeze(model.predict(frame[None, ...])[0])\n",
    "    #coords = get_final_points_from_predictions(pred, org_shape)\n",
    "    #if len(coords) == 0:      \n",
    "    #for idx, coord in enumerate(coords):     \n",
    "    #print(coords)"
=======
    "    # Get final predicted points for each frame\n",
    "    n_hexbugs = None\n",
    "    previous_coords = None\n",
    "    results = []\n",
    "    for frame_idx, pred in enumerate(preds):\n",
    "        pred = np.squeeze(pred)\n",
    "        coords = get_final_points_from_predictions(pred, org_shape)\n",
    "        \n",
    "        if n_hexbugs is None:\n",
    "            n_hexbugs = len(coords)\n",
    "            if n_hexbugs == 0:\n",
    "                n_hexbugs = 1\n",
    "\n",
    "        for i in range(n_hexbugs):\n",
    "            try:\n",
    "                results = from_array_to_dict([frame_idx, i, coords[i][1], coords[i][0]], results)\n",
    "            except:\n",
    "                results = from_array_to_dict([frame_idx, i, 0, 0], results)\n",
    "            \n",
    "    save_list(results, str(file_name).replace(\".traco\", \".csv\"))"
>>>>>>> 4fc13573067262c5c43b9c3ef669e23ce12be2e1
   ]
  },
  {
   "cell_type": "code",
   "execution_count": null,
<<<<<<< HEAD
   "id": "3f402926",
=======
   "id": "e5f99ac6",
>>>>>>> 4fc13573067262c5c43b9c3ef669e23ce12be2e1
   "metadata": {},
   "outputs": [],
   "source": []
  }
 ],
 "metadata": {
  "kernelspec": {
   "display_name": "Python 3 (ipykernel)",
   "language": "python",
   "name": "python3"
  },
  "language_info": {
   "codemirror_mode": {
    "name": "ipython",
    "version": 3
   },
   "file_extension": ".py",
   "mimetype": "text/x-python",
   "name": "python",
   "nbconvert_exporter": "python",
   "pygments_lexer": "ipython3",
   "version": "3.9.12"
  }
 },
 "nbformat": 4,
 "nbformat_minor": 5
}
