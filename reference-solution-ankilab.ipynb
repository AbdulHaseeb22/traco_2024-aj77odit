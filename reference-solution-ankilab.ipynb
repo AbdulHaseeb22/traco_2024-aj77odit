{
 "cells": [
  {
   "cell_type": "markdown",
   "id": "4a18a939",
   "metadata": {},
   "source": [
    "# TRACO reference solution"
   ]
  },
  {
   "cell_type": "code",
   "execution_count": 1,
   "id": "d4540624",
   "metadata": {},
   "outputs": [
    {
     "name": "stderr",
     "output_type": "stream",
     "text": [
      "2023-04-24 20:40:20.101937: I tensorflow/core/platform/cpu_feature_guard.cc:193] This TensorFlow binary is optimized with oneAPI Deep Neural Network Library (oneDNN) to use the following CPU instructions in performance-critical operations:  AVX2 AVX512F AVX512_VNNI FMA\n",
      "To enable them in other operations, rebuild TensorFlow with the appropriate compiler flags.\n",
      "2023-04-24 20:40:20.254057: I tensorflow/core/util/port.cc:104] oneDNN custom operations are on. You may see slightly different numerical results due to floating-point round-off errors from different computation orders. To turn them off, set the environment variable `TF_ENABLE_ONEDNN_OPTS=0`.\n",
      "2023-04-24 20:40:20.807873: W tensorflow/compiler/xla/stream_executor/platform/default/dso_loader.cc:64] Could not load dynamic library 'libnvinfer.so.7'; dlerror: libnvinfer.so.7: cannot open shared object file: No such file or directory; LD_LIBRARY_PATH: /data/du92wufe/.local/lib/python3.9/site-packages/cv2/../../lib64:\n",
      "2023-04-24 20:40:20.807915: W tensorflow/compiler/xla/stream_executor/platform/default/dso_loader.cc:64] Could not load dynamic library 'libnvinfer_plugin.so.7'; dlerror: libnvinfer_plugin.so.7: cannot open shared object file: No such file or directory; LD_LIBRARY_PATH: /data/du92wufe/.local/lib/python3.9/site-packages/cv2/../../lib64:\n",
      "2023-04-24 20:40:20.807919: W tensorflow/compiler/tf2tensorrt/utils/py_utils.cc:38] TF-TRT Warning: Cannot dlopen some TensorRT libraries. If you would like to use Nvidia GPU with TensorRT, please make sure the missing libraries mentioned above are installed properly.\n"
     ]
    },
    {
     "name": "stdout",
     "output_type": "stream",
     "text": [
      "Segmentation Models: using `keras` framework.\n"
     ]
    }
   ],
   "source": [
    "import cv2\n",
    "import numpy as np\n",
    "from pathlib import Path\n",
    "import os\n",
    "import json\n",
    "import pandas as pd\n",
    "\n",
    "import tensorflow as tf\n",
    "from tensorflow.keras.models import Model\n",
    "from tensorflow.keras.layers import Input, Conv2D, MaxPool2D, Flatten, Dense, Dropout, BatchNormalization, Concatenate, Reshape, GlobalAveragePooling2D, UpSampling2D, Activation\n",
    "from tensorflow.keras.optimizers import Adam\n",
    "from tensorflow.keras.callbacks import LearningRateScheduler\n",
    "from segmentation_models.metrics import iou_score\n",
    "from segmentation_models.losses import dice_loss\n",
    "\n",
    "import matplotlib.pyplot as plt\n",
    "\n",
    "from sklearn.cluster import DBSCAN"
   ]
  },
  {
   "cell_type": "code",
   "execution_count": 2,
   "id": "eb2bd2ae",
   "metadata": {},
   "outputs": [],
   "source": [
    "# Define path where the training data is located\n",
    "path_training_vids = Path(\"training\")\n",
    "\n",
    "# Downsample the input frames to a fixed target_shape\n",
    "target_shape = (256, 256)"
   ]
  },
  {
   "cell_type": "code",
   "execution_count": 3,
   "id": "65097154",
   "metadata": {
    "scrolled": false
   },
   "outputs": [],
   "source": [
    "def load_train_videos(path):\n",
    "    \"\"\"\n",
    "    This function returns all trainings videos and the annotations as binary masks (1 at the positions where a Hexbug is located).\n",
    "    All frames are resized and normalized. \n",
    "    \"\"\"\n",
    "    X = []\n",
    "    Y = []\n",
    "    \n",
    "    for vid in os.listdir(path):\n",
    "        path = Path(path)\n",
    "        if \".mp4\" in vid:\n",
    "            with open(path / vid.replace(\"mp4\", \"traco\")) as f:\n",
    "                annotations = json.load(f)['rois']\n",
    "            \n",
    "            cap = cv2.VideoCapture(str(path / vid))\n",
    "            ret, frame = cap.read()     \n",
    "            org_shape = frame.shape\n",
    "            \n",
    "            z = 0  # frame counter\n",
    "            while ret:\n",
    "                frame = cv2.cvtColor(frame, cv2.COLOR_BGR2RGB)\n",
    "                mask_frame = np.zeros(shape=target_shape)\n",
    "                for annot in annotations:\n",
    "                    if annot['z'] == z: \n",
    "                        # Get pos and scale it down to fit the target_shape\n",
    "                        pos = annot['pos']\n",
    "                        pos[0] = pos[0] * target_shape[0] // org_shape[1]\n",
    "                        pos[1] = pos[1] * target_shape[1] // org_shape[0]\n",
    "                        \n",
    "                        # Set the position if the Hexbug in the binary mask to 1\n",
    "                        try:\n",
    "                            mask_frame[int(pos[1]), int(pos[0])] = 1\n",
    "                        except:\n",
    "                            # IndexOutOfRange error sometimes occurs because of the downsampling of the frames\n",
    "                            mask_frame[int(pos[1]) - 1, int(pos[0]) - 1] = 1\n",
    "                        \n",
    "                # Resize the frame to the target size using bilinear interpolation\n",
    "                resized_frame = cv2.resize(frame, target_shape, interpolation=cv2.INTER_LINEAR)\n",
    "                \n",
    "                # Normalize to zero mean and unit variance\n",
    "                normalized_frame = (resized_frame.astype('float32') / 255.0 - 0.5) / 0.5\n",
    "                \n",
    "                # Append to lists\n",
    "                X.append(normalized_frame)\n",
    "                Y.append(mask_frame) \n",
    "                \n",
    "                ret, frame = cap.read()  # read next frame\n",
    "                z += 1  # increase frame counter\n",
    "                \n",
    "    X = np.asarray(X)\n",
    "    Y = np.asarray(Y)\n",
    "    \n",
    "    return X, Y"
   ]
  },
  {
   "cell_type": "markdown",
   "id": "1443b825",
   "metadata": {},
   "source": [
    "## Create and train U-Net"
   ]
  },
  {
   "cell_type": "code",
   "execution_count": 4,
   "id": "54e7f43f",
   "metadata": {},
   "outputs": [],
   "source": [
    "def conv_block(x, num_filters):\n",
    "    x = Conv2D(filters=num_filters, kernel_size=3, padding='same')(x)\n",
    "    x = BatchNormalization()(x)\n",
    "    x = Activation('relu')(x)\n",
    "\n",
    "    x = Conv2D(filters=num_filters, kernel_size=3, padding='same')(x)\n",
    "    x = BatchNormalization()(x)\n",
    "    x = Activation('relu')(x)\n",
    "    return x\n",
    "\n",
    "\n",
    "def build_Unet(filters=16, num_classes=1):\n",
    "    # Input layer\n",
    "    inputs = Input(shape=(target_shape[0], target_shape[1], 3))\n",
    "    \n",
    "    # Encoder\n",
    "    e1 = conv_block(inputs, filters)\n",
    "    p1 = MaxPool2D((2, 2))(e1)\n",
    "    \n",
    "    e2 = conv_block(p1, filters * 2)\n",
    "    p2 = MaxPool2D((2, 2))(e2)\n",
    "    \n",
    "    e3 = conv_block(p2, filters * 4)\n",
    "    p3 = MaxPool2D((2, 2))(e3)\n",
    "    \n",
    "    e4 = conv_block(p3, filters * 8)\n",
    "    p4 = MaxPool2D((2, 2))(e4)\n",
    "    \n",
    "    # Bottleneck\n",
    "    b1 = conv_block(p4, filters * 16)\n",
    "    \n",
    "    # Decoder\n",
    "    d1 = UpSampling2D()(b1)\n",
    "    d1 = Concatenate()([d1, e4])\n",
    "    d1 = conv_block(d1, filters * 8)\n",
    "    \n",
    "    d2 = UpSampling2D()(d1)\n",
    "    d2 = Concatenate()([d2, e3])\n",
    "    d2 = conv_block(d2, filters * 4)\n",
    "    \n",
    "    d3 = UpSampling2D()(d2)\n",
    "    d3 = Concatenate()([d3, e2])\n",
    "    d3 = conv_block(d3, filters * 2)\n",
    "    \n",
    "    d4 = UpSampling2D()(d3)\n",
    "    d4 = Concatenate()([d4, e1])\n",
    "    d4 = conv_block(d4, filters)\n",
    "    \n",
    "    # Output layer\n",
    "    outputs = Conv2D(filters=num_classes,\n",
    "                     kernel_size=1,\n",
    "                     padding='same',\n",
    "                     activation='sigmoid')(d4)\n",
    "    \n",
    "    return Model(inputs, outputs)"
   ]
  },
  {
   "cell_type": "code",
   "execution_count": 5,
   "id": "e425feb4",
   "metadata": {},
   "outputs": [
    {
     "name": "stderr",
     "output_type": "stream",
     "text": [
      "2023-04-24 20:40:27.174920: I tensorflow/compiler/xla/stream_executor/cuda/cuda_gpu_executor.cc:981] successful NUMA node read from SysFS had negative value (-1), but there must be at least one NUMA node, so returning NUMA node zero\n",
      "2023-04-24 20:40:27.184206: I tensorflow/compiler/xla/stream_executor/cuda/cuda_gpu_executor.cc:981] successful NUMA node read from SysFS had negative value (-1), but there must be at least one NUMA node, so returning NUMA node zero\n",
      "2023-04-24 20:40:27.185112: I tensorflow/compiler/xla/stream_executor/cuda/cuda_gpu_executor.cc:981] successful NUMA node read from SysFS had negative value (-1), but there must be at least one NUMA node, so returning NUMA node zero\n",
      "2023-04-24 20:40:27.186205: I tensorflow/core/platform/cpu_feature_guard.cc:193] This TensorFlow binary is optimized with oneAPI Deep Neural Network Library (oneDNN) to use the following CPU instructions in performance-critical operations:  AVX2 AVX512F AVX512_VNNI FMA\n",
      "To enable them in other operations, rebuild TensorFlow with the appropriate compiler flags.\n",
      "2023-04-24 20:40:27.186879: I tensorflow/compiler/xla/stream_executor/cuda/cuda_gpu_executor.cc:981] successful NUMA node read from SysFS had negative value (-1), but there must be at least one NUMA node, so returning NUMA node zero\n",
      "2023-04-24 20:40:27.187756: I tensorflow/compiler/xla/stream_executor/cuda/cuda_gpu_executor.cc:981] successful NUMA node read from SysFS had negative value (-1), but there must be at least one NUMA node, so returning NUMA node zero\n",
      "2023-04-24 20:40:27.188522: I tensorflow/compiler/xla/stream_executor/cuda/cuda_gpu_executor.cc:981] successful NUMA node read from SysFS had negative value (-1), but there must be at least one NUMA node, so returning NUMA node zero\n",
      "2023-04-24 20:40:27.746587: I tensorflow/compiler/xla/stream_executor/cuda/cuda_gpu_executor.cc:981] successful NUMA node read from SysFS had negative value (-1), but there must be at least one NUMA node, so returning NUMA node zero\n",
      "2023-04-24 20:40:27.747383: I tensorflow/compiler/xla/stream_executor/cuda/cuda_gpu_executor.cc:981] successful NUMA node read from SysFS had negative value (-1), but there must be at least one NUMA node, so returning NUMA node zero\n",
      "2023-04-24 20:40:27.748136: I tensorflow/compiler/xla/stream_executor/cuda/cuda_gpu_executor.cc:981] successful NUMA node read from SysFS had negative value (-1), but there must be at least one NUMA node, so returning NUMA node zero\n",
      "2023-04-24 20:40:27.748850: I tensorflow/core/common_runtime/gpu/gpu_device.cc:1613] Created device /job:localhost/replica:0/task:0/device:GPU:0 with 22310 MB memory:  -> device: 0, name: NVIDIA RTX A5000, pci bus id: 0000:01:00.0, compute capability: 8.6\n"
     ]
    }
   ],
   "source": [
    "# Build model\n",
    "model = build_Unet(filters=32)  # original U-Net: 64 filters\n",
    "\n",
    "# Compiling the model\n",
    "model.compile(optimizer=Adam(learning_rate=1e-3),  # Define optimizer and learning rate\n",
    "              loss=dice_loss,                      # Dice loss function\n",
    "              metrics=[iou_score])     # Intersection over Union (IoU) & Dice score"
   ]
  },
  {
   "cell_type": "code",
   "execution_count": 6,
   "id": "be235a3b",
   "metadata": {},
   "outputs": [],
   "source": [
    "def exp_scheduler(epoch, lr):\n",
    "    \"\"\"\n",
    "    Learning rate scheduler.\n",
    "    \"\"\"\n",
    "    if epoch < 20:\n",
    "        return 1e-3\n",
    "    elif epoch < 40:\n",
    "        return 1e-4\n",
    "    elif epoch < 60:\n",
    "        return 1e-5\n",
    "    else:\n",
    "        return lr * np.exp(-0.1)"
   ]
  },
  {
   "cell_type": "code",
   "execution_count": 7,
   "id": "c1d9b0bb",
   "metadata": {},
   "outputs": [],
   "source": [
    "# Load training data\n",
    "X_train, Y_train = load_train_videos(path_training_vids)"
   ]
  },
  {
   "cell_type": "code",
   "execution_count": 8,
   "id": "0135beee",
   "metadata": {
    "scrolled": true
   },
   "outputs": [
    {
     "name": "stdout",
     "output_type": "stream",
     "text": [
      "Epoch 1/80\n"
     ]
    },
    {
     "name": "stderr",
     "output_type": "stream",
     "text": [
      "2023-04-24 20:40:58.680383: I tensorflow/compiler/xla/stream_executor/cuda/cuda_dnn.cc:428] Loaded cuDNN version 8200\n",
      "2023-04-24 20:40:59.361282: I tensorflow/tsl/platform/default/subprocess.cc:304] Start cannot spawn child process: No such file or directory\n",
      "2023-04-24 20:41:01.639245: I tensorflow/compiler/xla/service/service.cc:173] XLA service 0x7f2ec67d7b00 initialized for platform CUDA (this does not guarantee that XLA will be used). Devices:\n",
      "2023-04-24 20:41:01.639265: I tensorflow/compiler/xla/service/service.cc:181]   StreamExecutor device (0): NVIDIA RTX A5000, Compute Capability 8.6\n",
      "2023-04-24 20:41:01.641928: I tensorflow/compiler/mlir/tensorflow/utils/dump_mlir_util.cc:268] disabling MLIR crash reproducer, set env var `MLIR_CRASH_REPRODUCER_DIRECTORY` to enable.\n",
      "2023-04-24 20:41:01.683651: I tensorflow/tsl/platform/default/subprocess.cc:304] Start cannot spawn child process: No such file or directory\n",
      "2023-04-24 20:41:01.719440: I tensorflow/compiler/jit/xla_compilation_cache.cc:477] Compiled cluster using XLA!  This line is logged at most once for the lifetime of the process.\n",
      "2023-04-24 20:41:03.291836: W tensorflow/tsl/framework/bfc_allocator.cc:290] Allocator (GPU_0_bfc) ran out of memory trying to allocate 7.07GiB with freed_by_count=0. The caller indicates that this is not a failure, but this may mean that there could be performance gains if more memory were available.\n",
      "2023-04-24 20:41:03.291856: W tensorflow/tsl/framework/bfc_allocator.cc:290] Allocator (GPU_0_bfc) ran out of memory trying to allocate 7.07GiB with freed_by_count=0. The caller indicates that this is not a failure, but this may mean that there could be performance gains if more memory were available.\n"
     ]
    },
    {
     "name": "stdout",
     "output_type": "stream",
     "text": [
      "283/284 [============================>.] - ETA: 0s - loss: 0.9863 - iou_score: 0.0070"
     ]
    },
    {
     "name": "stderr",
     "output_type": "stream",
     "text": [
      "2023-04-24 20:42:12.368003: W tensorflow/tsl/framework/bfc_allocator.cc:290] Allocator (GPU_0_bfc) ran out of memory trying to allocate 7.30GiB with freed_by_count=0. The caller indicates that this is not a failure, but this may mean that there could be performance gains if more memory were available.\n",
      "2023-04-24 20:42:12.368023: W tensorflow/tsl/framework/bfc_allocator.cc:290] Allocator (GPU_0_bfc) ran out of memory trying to allocate 7.30GiB with freed_by_count=0. The caller indicates that this is not a failure, but this may mean that there could be performance gains if more memory were available.\n"
     ]
    },
    {
     "name": "stdout",
     "output_type": "stream",
     "text": [
      "\b\b\b\b\b\b\b\b\b\b\b\b\b\b\b\b\b\b\b\b\b\b\b\b\b\b\b\b\b\b\b\b\b\b\b\b\b\b\b\b\b\b\b\b\b\b\b\b\b\b\b\b\b\b\b\b\b\b\b\b\b\b\b\b\b\b\b\b\b\b\b\b\b\b\b\b\b\b\b\b\b\b\b\b\b\r",
      "284/284 [==============================] - ETA: 0s - loss: 0.9862 - iou_score: 0.0070"
     ]
    },
    {
     "name": "stderr",
     "output_type": "stream",
     "text": [
      "2023-04-24 20:42:18.631117: W tensorflow/tsl/framework/bfc_allocator.cc:290] Allocator (GPU_0_bfc) ran out of memory trying to allocate 7.76GiB with freed_by_count=0. The caller indicates that this is not a failure, but this may mean that there could be performance gains if more memory were available.\n",
      "2023-04-24 20:42:18.631136: W tensorflow/tsl/framework/bfc_allocator.cc:290] Allocator (GPU_0_bfc) ran out of memory trying to allocate 7.76GiB with freed_by_count=0. The caller indicates that this is not a failure, but this may mean that there could be performance gains if more memory were available.\n"
     ]
    },
    {
     "name": "stdout",
     "output_type": "stream",
     "text": [
      "284/284 [==============================] - 83s 253ms/step - loss: 0.9862 - iou_score: 0.0070 - val_loss: 0.9927 - val_iou_score: 0.0040 - lr: 0.0010\n",
      "Epoch 2/80\n",
      "284/284 [==============================] - 68s 241ms/step - loss: 0.9246 - iou_score: 0.0394 - val_loss: 0.9536 - val_iou_score: 0.0247 - lr: 0.0010\n",
      "Epoch 3/80\n",
      "284/284 [==============================] - 69s 242ms/step - loss: 0.9036 - iou_score: 0.0509 - val_loss: 0.9391 - val_iou_score: 0.0328 - lr: 0.0010\n",
      "Epoch 4/80\n",
      "284/284 [==============================] - 69s 243ms/step - loss: 0.8953 - iou_score: 0.0555 - val_loss: 0.9335 - val_iou_score: 0.0359 - lr: 0.0010\n",
      "Epoch 5/80\n",
      "284/284 [==============================] - 69s 243ms/step - loss: 0.8872 - iou_score: 0.0601 - val_loss: 0.9494 - val_iou_score: 0.0264 - lr: 0.0010\n",
      "Epoch 6/80\n",
      "284/284 [==============================] - 69s 243ms/step - loss: 0.8914 - iou_score: 0.0579 - val_loss: 0.9136 - val_iou_score: 0.0468 - lr: 0.0010\n",
      "Epoch 7/80\n",
      "284/284 [==============================] - 69s 244ms/step - loss: 0.8789 - iou_score: 0.0648 - val_loss: 0.9492 - val_iou_score: 0.0276 - lr: 0.0010\n",
      "Epoch 8/80\n",
      "284/284 [==============================] - 69s 243ms/step - loss: 0.8669 - iou_score: 0.0716 - val_loss: 0.9460 - val_iou_score: 0.0296 - lr: 0.0010\n",
      "Epoch 9/80\n",
      "284/284 [==============================] - 69s 243ms/step - loss: 0.8667 - iou_score: 0.0718 - val_loss: 0.9222 - val_iou_score: 0.0421 - lr: 0.0010\n",
      "Epoch 10/80\n",
      "284/284 [==============================] - 69s 243ms/step - loss: 0.8700 - iou_score: 0.0699 - val_loss: 0.9139 - val_iou_score: 0.0474 - lr: 0.0010\n",
      "Epoch 11/80\n",
      "284/284 [==============================] - 69s 243ms/step - loss: 0.8617 - iou_score: 0.0747 - val_loss: 0.9501 - val_iou_score: 0.0265 - lr: 0.0010\n",
      "Epoch 12/80\n",
      "284/284 [==============================] - 69s 243ms/step - loss: 0.8635 - iou_score: 0.0737 - val_loss: 0.9156 - val_iou_score: 0.0457 - lr: 0.0010\n",
      "Epoch 13/80\n",
      "284/284 [==============================] - 69s 243ms/step - loss: 0.8587 - iou_score: 0.0764 - val_loss: 0.9042 - val_iou_score: 0.0528 - lr: 0.0010\n",
      "Epoch 14/80\n",
      "284/284 [==============================] - 69s 243ms/step - loss: 0.8629 - iou_score: 0.0740 - val_loss: 0.9318 - val_iou_score: 0.0368 - lr: 0.0010\n",
      "Epoch 15/80\n",
      "284/284 [==============================] - 69s 243ms/step - loss: 0.8541 - iou_score: 0.0790 - val_loss: 0.9146 - val_iou_score: 0.0470 - lr: 0.0010\n",
      "Epoch 16/80\n",
      "284/284 [==============================] - 69s 243ms/step - loss: 0.8553 - iou_score: 0.0784 - val_loss: 0.9289 - val_iou_score: 0.0382 - lr: 0.0010\n",
      "Epoch 17/80\n",
      "284/284 [==============================] - 69s 243ms/step - loss: 0.8577 - iou_score: 0.0770 - val_loss: 0.9173 - val_iou_score: 0.0454 - lr: 0.0010\n",
      "Epoch 18/80\n",
      "284/284 [==============================] - 69s 243ms/step - loss: 0.8528 - iou_score: 0.0798 - val_loss: 0.9274 - val_iou_score: 0.0397 - lr: 0.0010\n",
      "Epoch 19/80\n",
      "284/284 [==============================] - 69s 243ms/step - loss: 0.8511 - iou_score: 0.0809 - val_loss: 0.9197 - val_iou_score: 0.0437 - lr: 0.0010\n",
      "Epoch 20/80\n",
      "284/284 [==============================] - 69s 243ms/step - loss: 0.8585 - iou_score: 0.0766 - val_loss: 0.9268 - val_iou_score: 0.0397 - lr: 0.0010\n",
      "Epoch 21/80\n",
      "284/284 [==============================] - 69s 243ms/step - loss: 0.8424 - iou_score: 0.0860 - val_loss: 0.9025 - val_iou_score: 0.0536 - lr: 1.0000e-04\n",
      "Epoch 22/80\n",
      "284/284 [==============================] - 69s 243ms/step - loss: 0.8271 - iou_score: 0.0951 - val_loss: 0.9023 - val_iou_score: 0.0537 - lr: 1.0000e-04\n",
      "Epoch 23/80\n",
      "284/284 [==============================] - 69s 243ms/step - loss: 0.8217 - iou_score: 0.0984 - val_loss: 0.9026 - val_iou_score: 0.0536 - lr: 1.0000e-04\n",
      "Epoch 24/80\n",
      "284/284 [==============================] - 69s 243ms/step - loss: 0.8173 - iou_score: 0.1012 - val_loss: 0.9038 - val_iou_score: 0.0529 - lr: 1.0000e-04\n",
      "Epoch 25/80\n",
      "284/284 [==============================] - 69s 243ms/step - loss: 0.8146 - iou_score: 0.1028 - val_loss: 0.9038 - val_iou_score: 0.0531 - lr: 1.0000e-04\n",
      "Epoch 26/80\n",
      "284/284 [==============================] - 69s 243ms/step - loss: 0.8135 - iou_score: 0.1035 - val_loss: 0.9013 - val_iou_score: 0.0547 - lr: 1.0000e-04\n",
      "Epoch 27/80\n",
      "284/284 [==============================] - 69s 243ms/step - loss: 0.8112 - iou_score: 0.1049 - val_loss: 0.9023 - val_iou_score: 0.0541 - lr: 1.0000e-04\n",
      "Epoch 28/80\n",
      "284/284 [==============================] - 69s 243ms/step - loss: 0.8099 - iou_score: 0.1057 - val_loss: 0.9039 - val_iou_score: 0.0535 - lr: 1.0000e-04\n",
      "Epoch 29/80\n",
      "284/284 [==============================] - 69s 243ms/step - loss: 0.8091 - iou_score: 0.1062 - val_loss: 0.9047 - val_iou_score: 0.0530 - lr: 1.0000e-04\n",
      "Epoch 30/80\n",
      "284/284 [==============================] - 69s 243ms/step - loss: 0.8072 - iou_score: 0.1072 - val_loss: 0.8995 - val_iou_score: 0.0558 - lr: 1.0000e-04\n",
      "Epoch 31/80\n",
      "284/284 [==============================] - 69s 243ms/step - loss: 0.8048 - iou_score: 0.1089 - val_loss: 0.8997 - val_iou_score: 0.0558 - lr: 1.0000e-04\n",
      "Epoch 32/80\n",
      "284/284 [==============================] - 69s 243ms/step - loss: 0.8050 - iou_score: 0.1087 - val_loss: 0.8991 - val_iou_score: 0.0560 - lr: 1.0000e-04\n",
      "Epoch 33/80\n",
      "284/284 [==============================] - 69s 243ms/step - loss: 0.8033 - iou_score: 0.1096 - val_loss: 0.8966 - val_iou_score: 0.0573 - lr: 1.0000e-04\n",
      "Epoch 34/80\n",
      "284/284 [==============================] - 69s 243ms/step - loss: 0.8022 - iou_score: 0.1104 - val_loss: 0.8968 - val_iou_score: 0.0571 - lr: 1.0000e-04\n",
      "Epoch 35/80\n"
     ]
    },
    {
     "name": "stderr",
     "output_type": "stream",
     "text": [
      "IOPub message rate exceeded.\n",
      "The notebook server will temporarily stop sending output\n",
      "to the client in order to avoid crashing it.\n",
      "To change this limit, set the config variable\n",
      "`--NotebookApp.iopub_msg_rate_limit`.\n",
      "\n",
      "Current values:\n",
      "NotebookApp.iopub_msg_rate_limit=1000.0 (msgs/sec)\n",
      "NotebookApp.rate_limit_window=3.0 (secs)\n",
      "\n"
     ]
    }
   ],
   "source": [
    "history = model.fit(x=X_train, y=Y_train, epochs=80,\n",
    "                    callbacks=[LearningRateScheduler(schedule=exp_scheduler, verbose=0)], \n",
    "                    validation_split=0.1)"
   ]
  },
  {
   "cell_type": "code",
   "execution_count": 10,
   "id": "e0e08c74",
   "metadata": {},
   "outputs": [
    {
     "data": {
      "text/plain": [
       "[<matplotlib.lines.Line2D at 0x7f3e2c1bbe50>]"
      ]
     },
     "execution_count": 10,
     "metadata": {},
     "output_type": "execute_result"
    },
    {
     "data": {
      "image/png": "[encoded data removed]",
      "text/plain": [
       "<Figure size 432x288 with 1 Axes>"
      ]
     },
     "metadata": {
      "needs_background": "light"
     },
     "output_type": "display_data"
    }
   ],
   "source": [
    "plt.plot(history.history['loss'])"
   ]
  },
  {
   "cell_type": "code",
   "execution_count": null,
   "id": "eefc95b6",
   "metadata": {},
   "outputs": [],
   "source": [
    "model.save(\"reference_\")"
   ]
  },
  {
   "cell_type": "markdown",
   "id": "5666a76e",
   "metadata": {},
   "source": [
    "## Apply the model to our test data"
   ]
  },
  {
   "cell_type": "code",
   "execution_count": 12,
   "id": "deb03355",
   "metadata": {},
   "outputs": [],
   "source": [
    "def load_validation_data(path):\n",
    "    \"\"\"\n",
    "    This function returns all validation videos and the annotations as binary masks (1 at the positions where a Hexbug is located).\n",
    "    All frames are resized and normalized. \n",
    "    \"\"\"\n",
    "    X = []\n",
    "    org_shapes = []\n",
    "    file_names = []\n",
    "    \n",
    "    for vid in os.listdir(path):\n",
    "        path = Path(path)\n",
    "        if \".mp4\" in vid:\n",
    "            with open(path / vid.replace(\"mp4\", \"traco\")) as f:\n",
    "                annotations = json.load(f)['rois']\n",
    "                  \n",
    "            cap = cv2.VideoCapture(str(path / vid))\n",
    "            ret, frame = cap.read()     \n",
    "            org_shape = frame.shape\n",
    "            \n",
    "            file_names.append(path / vid.replace(\"mp4\", \"traco\"))\n",
    "            org_shapes.append(org_shape)\n",
    "            \n",
    "            X_ = []\n",
    "            while ret:\n",
    "                frame = cv2.cvtColor(frame, cv2.COLOR_BGR2RGB)\n",
    "                        \n",
    "                # Resize the frame to the target size using bilinear interpolation\n",
    "                resized_frame = cv2.resize(frame, target_shape, interpolation=cv2.INTER_LINEAR)\n",
    "                \n",
    "                # Normalize to zero mean and unit variance\n",
    "                normalized_frame = (resized_frame.astype('float32') / 255.0 - 0.5) / 0.5\n",
    "                \n",
    "                # Append to lists\n",
    "                X_.append(normalized_frame)\n",
    "                \n",
    "                ret, frame = cap.read()  # read next frame\n",
    "            \n",
    "            X.append(np.asarray(X_))           \n",
    "    \n",
    "    return X, org_shapes, file_names"
   ]
  },
  {
   "cell_type": "code",
   "execution_count": 16,
   "id": "9f8fbb34",
   "metadata": {},
   "outputs": [],
   "source": [
    "X_test, org_shapes_test, file_names_test = load_validation_data(\"leaderboard_data\")"
   ]
  },
  {
   "cell_type": "code",
   "execution_count": 24,
   "id": "01ec0fce",
   "metadata": {},
   "outputs": [],
   "source": [
    "def get_final_points_from_predictions(pred, org_shape):\n",
    "    \"\"\"\n",
    "    This function finds cluster where a Hexbug is detected. It resizes the found positions back to fit the original frame shape.\n",
    "    \"\"\"\n",
    "    points = np.transpose(np.where(pred > 0.01))\n",
    "    if len(points) == 0:\n",
    "        return []\n",
    "    \n",
    "    # Perform clustering\n",
    "    eps = 10\n",
    "    min_samples = 1\n",
    "    dbscan = DBSCAN(eps=eps, min_samples=min_samples)\n",
    "    dbscan.fit(points)\n",
    "    labels = dbscan.labels_\n",
    "    \n",
    "    n_clusters = len(set(labels)) - (1 if -1 in labels else 0)\n",
    "    final_points = []\n",
    "    for i in range(n_clusters):\n",
    "        random_point = np.random.choice(np.where(labels == i)[0])\n",
    "        random_point = points[random_point]\n",
    "        random_point[0] = int(random_point[0] * org_shape[0] // target_shape[0])\n",
    "        random_point[1] = int(random_point[1] * org_shape[1] // target_shape[1])\n",
    "    \n",
    "        final_points.append(random_point)\n",
    "    \n",
    "    return final_points[0:5]"
   ]
  },
  {
   "cell_type": "code",
   "execution_count": 25,
   "id": "92ce53c3",
   "metadata": {},
   "outputs": [
    {
     "data": {
      "text/plain": [
       "[PosixPath('leaderboard_data/test0005.traco'),\n",
       " PosixPath('leaderboard_data/test0003.traco'),\n",
       " PosixPath('leaderboard_data/test0001.traco'),\n",
       " PosixPath('leaderboard_data/test0002.traco'),\n",
       " PosixPath('leaderboard_data/test0004.traco')]"
      ]
     },
     "execution_count": 25,
     "metadata": {},
     "output_type": "execute_result"
    }
   ],
   "source": [
    "file_names_test"
   ]
  },
  {
   "cell_type": "code",
   "execution_count": 27,
   "id": "ca358bdc",
   "metadata": {},
   "outputs": [],
   "source": [
    "from export_tool import traco_to_csv, from_array_to_dict, save_list"
   ]
  },
  {
   "cell_type": "code",
   "execution_count": 32,
   "id": "62ed0d54",
   "metadata": {},
   "outputs": [
    {
     "name": "stdout",
     "output_type": "stream",
     "text": [
      "4/4 [==============================] - 0s 61ms/step\n",
      "Saving to csv\n",
      "Done\n",
      "4/4 [==============================] - 0s 61ms/step\n",
      "Saving to csv\n",
      "Done\n",
      "4/4 [==============================] - 0s 61ms/step\n",
      "Saving to csv\n",
      "Done\n",
      "4/4 [==============================] - 0s 61ms/step\n",
      "Saving to csv\n",
      "Done\n",
      "4/4 [==============================] - 0s 61ms/step\n",
      "Saving to csv\n",
      "Done\n"
     ]
    }
   ],
   "source": [
    "for idx, x in enumerate(X_test):    \n",
    "    # Predict all frames of one video\n",
    "    preds = model.predict(x)\n",
    "    \n",
    "    org_shape = org_shapes_test[idx]\n",
    "    file_name = file_names_test[idx]\n",
    "    \n",
    "    # Get final predicted points for each frame\n",
    "    n_hexbugs = None\n",
    "    previous_coords = None\n",
    "    results = []\n",
    "    for frame_idx, pred in enumerate(preds):\n",
    "        pred = np.squeeze(pred)\n",
    "        coords = get_final_points_from_predictions(pred, org_shape)\n",
    "        \n",
    "        if n_hexbugs is None:\n",
    "            n_hexbugs = len(coords)\n",
    "            if n_hexbugs == 0:\n",
    "                n_hexbugs = 1\n",
    "\n",
    "        for i in range(n_hexbugs):\n",
    "            try:\n",
    "                results = from_array_to_dict([frame_idx, i, coords[i][1], coords[i][0]], results)\n",
    "            except:\n",
    "                results = from_array_to_dict([frame_idx, i, 0, 0], results)\n",
    "            \n",
    "    save_list(results, str(file_name).replace(\".traco\", \".csv\"))"
   ]
  },
  {
   "cell_type": "code",
   "execution_count": null,
   "id": "e5f99ac6",
   "metadata": {},
   "outputs": [],
   "source": []
  }
 ],
 "metadata": {
  "kernelspec": {
   "display_name": "Python 3 (ipykernel)",
   "language": "python",
   "name": "python3"
  },
  "language_info": {
   "codemirror_mode": {
    "name": "ipython",
    "version": 3
   },
   "file_extension": ".py",
   "mimetype": "text/x-python",
   "name": "python",
   "nbconvert_exporter": "python",
   "pygments_lexer": "ipython3",
   "version": "3.9.12"
  }
 },
 "nbformat": 4,
 "nbformat_minor": 5
}
