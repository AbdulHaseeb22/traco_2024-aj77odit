{
 "cells": [
  {
   "cell_type": "code",
   "execution_count": 1,
   "id": "0120437a",
   "metadata": {},
   "outputs": [],
   "source": [
    "import numpy as np\n",
    "import pandas as pd\n",
    "\n",
    "from scipy.spatial.distance import cdist, euclidean\n",
    "from scipy.optimize import linear_sum_assignment"
   ]
  },
  {
   "cell_type": "code",
   "execution_count": 19,
   "id": "babc48b2",
   "metadata": {},
   "outputs": [
    {
     "data": {
      "text/html": [
       "<div>\n",
       "<style scoped>\n",
       "    .dataframe tbody tr th:only-of-type {\n",
       "        vertical-align: middle;\n",
       "    }\n",
       "\n",
       "    .dataframe tbody tr th {\n",
       "        vertical-align: top;\n",
       "    }\n",
       "\n",
       "    .dataframe thead th {\n",
       "        text-align: right;\n",
       "    }\n",
       "</style>\n",
       "<table border=\"1\" class=\"dataframe\">\n",
       "  <thead>\n",
       "    <tr style=\"text-align: right;\">\n",
       "      <th></th>\n",
       "      <th>t</th>\n",
       "      <th>hexbug</th>\n",
       "      <th>x</th>\n",
       "      <th>y</th>\n",
       "    </tr>\n",
       "  </thead>\n",
       "  <tbody>\n",
       "    <tr>\n",
       "      <th>0</th>\n",
       "      <td>0</td>\n",
       "      <td>0</td>\n",
       "      <td>562.774938</td>\n",
       "      <td>700.299740</td>\n",
       "    </tr>\n",
       "    <tr>\n",
       "      <th>1</th>\n",
       "      <td>1</td>\n",
       "      <td>0</td>\n",
       "      <td>579.863030</td>\n",
       "      <td>601.057360</td>\n",
       "    </tr>\n",
       "    <tr>\n",
       "      <th>2</th>\n",
       "      <td>2</td>\n",
       "      <td>0</td>\n",
       "      <td>572.633453</td>\n",
       "      <td>496.557106</td>\n",
       "    </tr>\n",
       "    <tr>\n",
       "      <th>3</th>\n",
       "      <td>3</td>\n",
       "      <td>0</td>\n",
       "      <td>530.570457</td>\n",
       "      <td>402.572600</td>\n",
       "    </tr>\n",
       "    <tr>\n",
       "      <th>4</th>\n",
       "      <td>4</td>\n",
       "      <td>0</td>\n",
       "      <td>487.850227</td>\n",
       "      <td>342.764278</td>\n",
       "    </tr>\n",
       "  </tbody>\n",
       "</table>\n",
       "</div>"
      ],
      "text/plain": [
       "   t  hexbug           x           y\n",
       "0  0       0  562.774938  700.299740\n",
       "1  1       0  579.863030  601.057360\n",
       "2  2       0  572.633453  496.557106\n",
       "3  3       0  530.570457  402.572600\n",
       "4  4       0  487.850227  342.764278"
      ]
     },
     "execution_count": 19,
     "metadata": {},
     "output_type": "execute_result"
    }
   ],
   "source": [
    "pred_df = pd.read_csv(\"files/zeroes.csv\", index_col=0)\n",
    "gt_df = pd.read_csv(\"files/threeHB.csv\", index_col=0)\n",
    "gt_df.head()"
   ]
  },
  {
   "cell_type": "code",
   "execution_count": 3,
   "id": "1bb52685",
   "metadata": {},
   "outputs": [],
   "source": [
    "PENALTY_MORE_THAN_FIVE_HEXBUGS = 5_000\n",
    "PENALTY_ZERO_HEXBUGS = 5_000\n",
    "PENALTY_N_WRONG_HEXBUGS = 1_000 # only applies if the amount of predicted hexbugs is between 1 and 5"
   ]
  },
  {
   "cell_type": "code",
   "execution_count": 18,
   "id": "d8db1669",
   "metadata": {},
   "outputs": [
    {
     "name": "stdout",
     "output_type": "stream",
     "text": [
      "<class 'pandas.core.series.Series'>\n",
      "<class 'pandas.core.series.Series'>\n",
      "<class 'pandas.core.series.Series'>\n",
      "<class 'pandas.core.series.Series'>\n"
     ]
    }
   ],
   "source": [
    "for idx, elem in enumerate(pred_df.keys()):\n",
    "    print(type(pred_df[elem]))"
   ]
  },
  {
   "cell_type": "code",
   "execution_count": 16,
   "id": "d9428f8e",
   "metadata": {},
   "outputs": [
    {
     "name": "stdout",
     "output_type": "stream",
     "text": [
      "No hexbug column in prediction file\n"
     ]
    }
   ],
   "source": [
    "if 'hexbug' not in pred_df.keys():\n",
    "    print(\"No hexbug column in prediction file\")"
   ]
  },
  {
   "cell_type": "code",
   "execution_count": 10,
   "id": "25a5ce63",
   "metadata": {},
   "outputs": [],
   "source": [
    "def get_score(path_to_upload: str, path_to_gt:str):\n",
    "    # Check ths submitted json data\n",
    "\n",
    "    #check_guidelines(pred_json)\n",
    "    \n",
    "    final_score = 0\n",
    "\n",
    "    # Load the data\n",
    "    pred_df = pd.read_csv(path_to_upload, index_col=0)\n",
    "    gt_df = pd.read_csv(path_to_gt, index_col=0)\n",
    "\n",
    "    # Determine how many frames we have and how many hexbugs are used in the video of the ground truth\n",
    "    n_frames = gt_df['t'].max()\n",
    "    n_hexbugs_gt = gt_df['hexbug'].max()    \n",
    "    n_hexbugs_pred = pred_df['hexbug'].max()\n",
    "            \n",
    "    # Apply penalties if the amount of predicted hexbugs is wrong\n",
    "    if n_hexbugs_pred < 1:\n",
    "        final_score += PENALTY_ZERO_HEXBUGS\n",
    "    elif n_hexbugs_pred > 5:\n",
    "        final_score += PENALTY_MORE_THAN_FIVE_HEXBUGS\n",
    "    else:\n",
    "        final_score += (np.abs(n_hexbugs_pred - n_hexbugs_gt) * PENALTY_N_WRONG_HEXBUGS)  \n",
    "    \n",
    "    # Match the predicted hexbugs in the first frame with the ground truth \n",
    "    # --> the matching IDs are used in all the following frames\n",
    "    distance_matrix = cdist(list(gt_df[gt_df['t'] == 0][['x', 'y']].values), list(pred_df[pred_df['t'] == 0][['x', 'y']].values))\n",
    "    row_ind, col_ind = linear_sum_assignment(distance_matrix)  # Hungarian algorithm\n",
    "\n",
    "    matched_ids = {}\n",
    "    for i, j in zip(row_ind, col_ind):\n",
    "        matched_ids[f\"{i}\"] = j\n",
    "    \n",
    "    # Iterate over each frame and calculate distances\n",
    "    for i in range(n_frames):\n",
    "        frame_gt_df = gt_df[gt_df['t'] == i]\n",
    "        frame_pred_df = pred_df[pred_df['t'] == i]\n",
    "        for j in range(n_hexbugs_gt):\n",
    "            row_gt = frame_gt_df[frame_gt_df['hexbug'] == j]\n",
    "            row_pred = frame_pred_df[frame_pred_df['hexbug'] == matched_ids[str(j)]]\n",
    "            score = euclidean(list(row_gt[['x', 'y']].values[0]), list(row_pred[['x', 'y']].values[0]))\n",
    "            final_score += score\n",
    "\n",
    "    return final_score"
   ]
  },
  {
   "cell_type": "code",
   "execution_count": 21,
   "id": "2dd8e599",
   "metadata": {},
   "outputs": [
    {
     "name": "stdout",
     "output_type": "stream",
     "text": [
      "Score:  5000\n"
     ]
    }
   ],
   "source": [
    "print(\"Score: \", get_score(\"files/training053.csv\", \"files/training056.csv\"))"
   ]
  },
  {
   "cell_type": "code",
   "execution_count": 22,
   "id": "b8dd3b2c",
   "metadata": {},
   "outputs": [
    {
     "name": "stdout",
     "output_type": "stream",
     "text": [
      "Score:  191696.34032764478\n"
     ]
    }
   ],
   "source": [
    "print(\"Score: \", get_score(\"files/zeroes.csv\", \"files/threeHB.csv\"))"
   ]
  }
 ],
 "metadata": {
  "kernelspec": {
   "display_name": "Python 3 (ipykernel)",
   "language": "python",
   "name": "python3"
  },
  "language_info": {
   "codemirror_mode": {
    "name": "ipython",
    "version": 3
   },
   "file_extension": ".py",
   "mimetype": "text/x-python",
   "name": "python",
   "nbconvert_exporter": "python",
   "pygments_lexer": "ipython3",
   "version": "3.10.6"
  }
 },
 "nbformat": 4,
 "nbformat_minor": 5
}
