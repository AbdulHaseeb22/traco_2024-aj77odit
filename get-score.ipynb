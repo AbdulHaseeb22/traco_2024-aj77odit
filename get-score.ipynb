{
 "cells": [
  {
   "cell_type": "code",
   "execution_count": 205,
   "id": "0120437a",
   "metadata": {},
   "outputs": [],
   "source": [
    "import json\n",
    "import numpy as np\n",
    "import pandas as pd\n",
    "import math\n",
    "\n",
    "from scipy.spatial.distance import cdist, euclidean\n",
    "from scipy.optimize import linear_sum_assignment"
   ]
  },
  {
   "cell_type": "code",
   "execution_count": 247,
   "id": "babc48b2",
   "metadata": {},
   "outputs": [],
   "source": [
    "with open(\"example_gt.traco\") as f:\n",
    "    gt_json = json.load(f)\n",
    "    \n",
    "with open(\"example_pred.traco\") as f:\n",
    "    pred_json = json.load(f)"
   ]
  },
  {
   "cell_type": "code",
   "execution_count": 198,
   "id": "1bb52685",
   "metadata": {},
   "outputs": [],
   "source": [
    "PENALTY_MORE_THAN_FIVE_HEXBUGS = 5_000\n",
    "PENALTY_ZERO_HEXBUGS = 5_000\n",
    "PENALTY_N_WRONG_HEXBUGS = 1_000 # only applies if the amount of predicted hexbugs is between 1 and 5"
   ]
  },
  {
   "cell_type": "code",
   "execution_count": 101,
   "id": "a9d4f01a",
   "metadata": {},
   "outputs": [],
   "source": [
    "def check_guidelines(pred_json):\n",
    "    if 'rois' not in pred_json.keys():\n",
    "        raise Exception(\"Submitted json should be a Dictionary and contain the key 'rois'.\")\n",
    "    \n",
    "    pred_rois = pred_json['rois']\n",
    "    \n",
    "    if not type(pred_rois) == list:\n",
    "        raise Exception(\"The dictionary entry 'rois' should contain a list of dictionaries.\")\n",
    "    \n",
    "    for idx, elem in enumerate(pred_rois):\n",
    "        if not type(elem) == dict:\n",
    "            raise Exception(\"Submitted json should only contain dictionaries, nothing else.\")\n",
    "        \n",
    "        if 'id' not in elem.keys() or 'z' not in elem.keys() or 'pos' not in elem.keys():\n",
    "            raise Exception(f\"Dictionary at index {idx} is wrong: {elem}.\")\n",
    "        \n",
    "        if type(elem['pos']) is not list or len(elem['pos']) != 2:\n",
    "            raise Exception(f\"Entry 'pos' at index {idx} is wrong: {elem}.\")\n",
    "            \n",
    "        if type(elem['id']) != int or type(elem['z']) != int:\n",
    "            raise Exception(f\"Entry 'id' or 'z' at index {idx} is wrong: {elem}.\")"
   ]
  },
  {
   "cell_type": "code",
   "execution_count": 249,
   "id": "25a5ce63",
   "metadata": {},
   "outputs": [],
   "source": [
    "def get_score(pred_json, gt_json):\n",
    "    \n",
    "    # Check ths submitted json data\n",
    "    check_guidelines(pred_json)\n",
    "    \n",
    "    # Create variable to accumulate the final score\n",
    "    final_score = 0\n",
    "    \n",
    "    # Get the relevant information from the files content\n",
    "    gt_df = pd.DataFrame(gt_json['rois'])\n",
    "    pred_df = pd.DataFrame(pred_json['rois'])\n",
    "\n",
    "    # Determine how many frames we have and how many hexbugs are used in the video of the ground truth\n",
    "    n_frames = gt_df['z'].max()\n",
    "    n_hexbugs_gt = gt_df['id'].max()    \n",
    "    n_hexbugs_pred = pred_df['id'].max()\n",
    "            \n",
    "    # Apply penalties if the amount of predicted hexbugs is wrong\n",
    "    if n_hexbugs_pred < 1:\n",
    "        final_score += PENALTY_ZERO_HEXBUGS\n",
    "    elif n_hexbugs_pred > 5:\n",
    "        final_score += PENALTY_MORE_THAN_FIVE_HEXBUGS\n",
    "    else:\n",
    "        final_score += (np.abs(n_hexbugs_pred - n_hexbugs_gt) * PENALTY_N_WRONG_HEXBUGS)  \n",
    "        \n",
    "    # Match the predicted hexbugs in the first frame with the ground truth \n",
    "    # --> the matching IDs are used in all the following frames\n",
    "    distance_matrix = cdist(list(gt_df[gt_df['z'] == 0]['pos']), list(pred_df[pred_df['z'] == 0]['pos']))\n",
    "    row_ind, col_ind = linear_sum_assignment(distance_matrix)  # Hungarian algorithm\n",
    "    \n",
    "    matched_ids = {}\n",
    "    for i, j in zip(row_ind, col_ind):\n",
    "        matched_ids[f\"{i}\"] = j\n",
    "    \n",
    "    # Iterate over each frame and calculate distances\n",
    "    for i in range(n_frames):\n",
    "        frame_gt_df = gt_df[gt_df['z'] == i]\n",
    "        frame_pred_df = pred_df[pred_df['z'] == i]\n",
    "        for j in range(n_hexbugs_gt):\n",
    "            row_gt = frame_gt_df[frame_gt_df['id'] == j]\n",
    "            row_pred = frame_pred_df[frame_pred_df['id'] == matched_ids[str(j)]]\n",
    "            score = euclidean(list(row_gt['pos'])[0], list(row_pred['pos'])[0])\n",
    "            final_score += score\n",
    "    \n",
    "    return final_score"
   ]
  },
  {
   "cell_type": "code",
   "execution_count": 250,
   "id": "b8dd3b2c",
   "metadata": {},
   "outputs": [
    {
     "name": "stdout",
     "output_type": "stream",
     "text": [
      "Score:  22.894304243126793\n"
     ]
    }
   ],
   "source": [
    "print(\"Score: \", get_score(pred_json, gt_json))"
   ]
  }
 ],
 "metadata": {
  "kernelspec": {
   "display_name": "Python 3 (ipykernel)",
   "language": "python",
   "name": "python3"
  },
  "language_info": {
   "codemirror_mode": {
    "name": "ipython",
    "version": 3
   },
   "file_extension": ".py",
   "mimetype": "text/x-python",
   "name": "python",
   "nbconvert_exporter": "python",
   "pygments_lexer": "ipython3",
   "version": "3.9.12"
  }
 },
 "nbformat": 4,
 "nbformat_minor": 5
}
